{
  "nbformat": 4,
  "nbformat_minor": 0,
  "metadata": {
    "kernelspec": {
      "display_name": "Python 3",
      "language": "python",
      "name": "python3"
    },
    "language_info": {
      "codemirror_mode": {
        "name": "ipython",
        "version": 3
      },
      "file_extension": ".py",
      "mimetype": "text/x-python",
      "name": "python",
      "nbconvert_exporter": "python",
      "pygments_lexer": "ipython3",
      "version": "3.7.7"
    },
    "colab": {
      "name": "nlp_V0.1.ipynb",
      "provenance": [],
      "toc_visible": true
    },
    "accelerator": "GPU",
    "widgets": {
      "application/vnd.jupyter.widget-state+json": {
        "4a620048029444f68d22a5f4dae0a513": {
          "model_module": "@jupyter-widgets/controls",
          "model_name": "HBoxModel",
          "state": {
            "_view_name": "HBoxView",
            "_dom_classes": [],
            "_model_name": "HBoxModel",
            "_view_module": "@jupyter-widgets/controls",
            "_model_module_version": "1.5.0",
            "_view_count": null,
            "_view_module_version": "1.5.0",
            "box_style": "",
            "layout": "IPY_MODEL_aecf972fceb941db9dac71b204edc255",
            "_model_module": "@jupyter-widgets/controls",
            "children": [
              "IPY_MODEL_ff9fec01404e403cbce1ac19a30cdb23",
              "IPY_MODEL_aeb8d89095f44b05b5cf2e2e5cbd63e0"
            ]
          }
        },
        "aecf972fceb941db9dac71b204edc255": {
          "model_module": "@jupyter-widgets/base",
          "model_name": "LayoutModel",
          "state": {
            "_view_name": "LayoutView",
            "grid_template_rows": null,
            "right": null,
            "justify_content": null,
            "_view_module": "@jupyter-widgets/base",
            "overflow": null,
            "_model_module_version": "1.2.0",
            "_view_count": null,
            "flex_flow": null,
            "width": null,
            "min_width": null,
            "border": null,
            "align_items": null,
            "bottom": null,
            "_model_module": "@jupyter-widgets/base",
            "top": null,
            "grid_column": null,
            "overflow_y": null,
            "overflow_x": null,
            "grid_auto_flow": null,
            "grid_area": null,
            "grid_template_columns": null,
            "flex": null,
            "_model_name": "LayoutModel",
            "justify_items": null,
            "grid_row": null,
            "max_height": null,
            "align_content": null,
            "visibility": null,
            "align_self": null,
            "height": null,
            "min_height": null,
            "padding": null,
            "grid_auto_rows": null,
            "grid_gap": null,
            "max_width": null,
            "order": null,
            "_view_module_version": "1.2.0",
            "grid_template_areas": null,
            "object_position": null,
            "object_fit": null,
            "grid_auto_columns": null,
            "margin": null,
            "display": null,
            "left": null
          }
        },
        "ff9fec01404e403cbce1ac19a30cdb23": {
          "model_module": "@jupyter-widgets/controls",
          "model_name": "FloatProgressModel",
          "state": {
            "_view_name": "ProgressView",
            "style": "IPY_MODEL_8036eee738ee4ded9e1afc9a1983af4f",
            "_dom_classes": [],
            "description": "Downloading: 100%",
            "_model_name": "FloatProgressModel",
            "bar_style": "success",
            "max": 442,
            "_view_module": "@jupyter-widgets/controls",
            "_model_module_version": "1.5.0",
            "value": 442,
            "_view_count": null,
            "_view_module_version": "1.5.0",
            "orientation": "horizontal",
            "min": 0,
            "description_tooltip": null,
            "_model_module": "@jupyter-widgets/controls",
            "layout": "IPY_MODEL_5ec87f043f2d422498532bf03e558193"
          }
        },
        "aeb8d89095f44b05b5cf2e2e5cbd63e0": {
          "model_module": "@jupyter-widgets/controls",
          "model_name": "HTMLModel",
          "state": {
            "_view_name": "HTMLView",
            "style": "IPY_MODEL_9854eec04a97400d94db85b8bbe3d5ae",
            "_dom_classes": [],
            "description": "",
            "_model_name": "HTMLModel",
            "placeholder": "​",
            "_view_module": "@jupyter-widgets/controls",
            "_model_module_version": "1.5.0",
            "value": " 442/442 [00:00&lt;00:00, 1.71kB/s]",
            "_view_count": null,
            "_view_module_version": "1.5.0",
            "description_tooltip": null,
            "_model_module": "@jupyter-widgets/controls",
            "layout": "IPY_MODEL_1a0445b1db54449b99991aa30db14969"
          }
        },
        "8036eee738ee4ded9e1afc9a1983af4f": {
          "model_module": "@jupyter-widgets/controls",
          "model_name": "ProgressStyleModel",
          "state": {
            "_view_name": "StyleView",
            "_model_name": "ProgressStyleModel",
            "description_width": "initial",
            "_view_module": "@jupyter-widgets/base",
            "_model_module_version": "1.5.0",
            "_view_count": null,
            "_view_module_version": "1.2.0",
            "bar_color": null,
            "_model_module": "@jupyter-widgets/controls"
          }
        },
        "5ec87f043f2d422498532bf03e558193": {
          "model_module": "@jupyter-widgets/base",
          "model_name": "LayoutModel",
          "state": {
            "_view_name": "LayoutView",
            "grid_template_rows": null,
            "right": null,
            "justify_content": null,
            "_view_module": "@jupyter-widgets/base",
            "overflow": null,
            "_model_module_version": "1.2.0",
            "_view_count": null,
            "flex_flow": null,
            "width": null,
            "min_width": null,
            "border": null,
            "align_items": null,
            "bottom": null,
            "_model_module": "@jupyter-widgets/base",
            "top": null,
            "grid_column": null,
            "overflow_y": null,
            "overflow_x": null,
            "grid_auto_flow": null,
            "grid_area": null,
            "grid_template_columns": null,
            "flex": null,
            "_model_name": "LayoutModel",
            "justify_items": null,
            "grid_row": null,
            "max_height": null,
            "align_content": null,
            "visibility": null,
            "align_self": null,
            "height": null,
            "min_height": null,
            "padding": null,
            "grid_auto_rows": null,
            "grid_gap": null,
            "max_width": null,
            "order": null,
            "_view_module_version": "1.2.0",
            "grid_template_areas": null,
            "object_position": null,
            "object_fit": null,
            "grid_auto_columns": null,
            "margin": null,
            "display": null,
            "left": null
          }
        },
        "9854eec04a97400d94db85b8bbe3d5ae": {
          "model_module": "@jupyter-widgets/controls",
          "model_name": "DescriptionStyleModel",
          "state": {
            "_view_name": "StyleView",
            "_model_name": "DescriptionStyleModel",
            "description_width": "",
            "_view_module": "@jupyter-widgets/base",
            "_model_module_version": "1.5.0",
            "_view_count": null,
            "_view_module_version": "1.2.0",
            "_model_module": "@jupyter-widgets/controls"
          }
        },
        "1a0445b1db54449b99991aa30db14969": {
          "model_module": "@jupyter-widgets/base",
          "model_name": "LayoutModel",
          "state": {
            "_view_name": "LayoutView",
            "grid_template_rows": null,
            "right": null,
            "justify_content": null,
            "_view_module": "@jupyter-widgets/base",
            "overflow": null,
            "_model_module_version": "1.2.0",
            "_view_count": null,
            "flex_flow": null,
            "width": null,
            "min_width": null,
            "border": null,
            "align_items": null,
            "bottom": null,
            "_model_module": "@jupyter-widgets/base",
            "top": null,
            "grid_column": null,
            "overflow_y": null,
            "overflow_x": null,
            "grid_auto_flow": null,
            "grid_area": null,
            "grid_template_columns": null,
            "flex": null,
            "_model_name": "LayoutModel",
            "justify_items": null,
            "grid_row": null,
            "max_height": null,
            "align_content": null,
            "visibility": null,
            "align_self": null,
            "height": null,
            "min_height": null,
            "padding": null,
            "grid_auto_rows": null,
            "grid_gap": null,
            "max_width": null,
            "order": null,
            "_view_module_version": "1.2.0",
            "grid_template_areas": null,
            "object_position": null,
            "object_fit": null,
            "grid_auto_columns": null,
            "margin": null,
            "display": null,
            "left": null
          }
        },
        "0ee3baa85b0843f1bb07fdd017545979": {
          "model_module": "@jupyter-widgets/controls",
          "model_name": "HBoxModel",
          "state": {
            "_view_name": "HBoxView",
            "_dom_classes": [],
            "_model_name": "HBoxModel",
            "_view_module": "@jupyter-widgets/controls",
            "_model_module_version": "1.5.0",
            "_view_count": null,
            "_view_module_version": "1.5.0",
            "box_style": "",
            "layout": "IPY_MODEL_b8f73b9ab67a4d38be28930752f6ab9e",
            "_model_module": "@jupyter-widgets/controls",
            "children": [
              "IPY_MODEL_74b745fcc4d744bfa1bbecf4d48d3123",
              "IPY_MODEL_56f07bb223014841bd89f9de77d16dbb"
            ]
          }
        },
        "b8f73b9ab67a4d38be28930752f6ab9e": {
          "model_module": "@jupyter-widgets/base",
          "model_name": "LayoutModel",
          "state": {
            "_view_name": "LayoutView",
            "grid_template_rows": null,
            "right": null,
            "justify_content": null,
            "_view_module": "@jupyter-widgets/base",
            "overflow": null,
            "_model_module_version": "1.2.0",
            "_view_count": null,
            "flex_flow": null,
            "width": null,
            "min_width": null,
            "border": null,
            "align_items": null,
            "bottom": null,
            "_model_module": "@jupyter-widgets/base",
            "top": null,
            "grid_column": null,
            "overflow_y": null,
            "overflow_x": null,
            "grid_auto_flow": null,
            "grid_area": null,
            "grid_template_columns": null,
            "flex": null,
            "_model_name": "LayoutModel",
            "justify_items": null,
            "grid_row": null,
            "max_height": null,
            "align_content": null,
            "visibility": null,
            "align_self": null,
            "height": null,
            "min_height": null,
            "padding": null,
            "grid_auto_rows": null,
            "grid_gap": null,
            "max_width": null,
            "order": null,
            "_view_module_version": "1.2.0",
            "grid_template_areas": null,
            "object_position": null,
            "object_fit": null,
            "grid_auto_columns": null,
            "margin": null,
            "display": null,
            "left": null
          }
        },
        "74b745fcc4d744bfa1bbecf4d48d3123": {
          "model_module": "@jupyter-widgets/controls",
          "model_name": "FloatProgressModel",
          "state": {
            "_view_name": "ProgressView",
            "style": "IPY_MODEL_477d4b133e4c4b698446cd2933aba6d8",
            "_dom_classes": [],
            "description": "Downloading: 100%",
            "_model_name": "FloatProgressModel",
            "bar_style": "success",
            "max": 363423424,
            "_view_module": "@jupyter-widgets/controls",
            "_model_module_version": "1.5.0",
            "value": 363423424,
            "_view_count": null,
            "_view_module_version": "1.5.0",
            "orientation": "horizontal",
            "min": 0,
            "description_tooltip": null,
            "_model_module": "@jupyter-widgets/controls",
            "layout": "IPY_MODEL_6ba82687eb8949b4aaadd44bade518b5"
          }
        },
        "56f07bb223014841bd89f9de77d16dbb": {
          "model_module": "@jupyter-widgets/controls",
          "model_name": "HTMLModel",
          "state": {
            "_view_name": "HTMLView",
            "style": "IPY_MODEL_9a345cae9df74730ba14a796701fc067",
            "_dom_classes": [],
            "description": "",
            "_model_name": "HTMLModel",
            "placeholder": "​",
            "_view_module": "@jupyter-widgets/controls",
            "_model_module_version": "1.5.0",
            "value": " 363M/363M [00:07&lt;00:00, 45.4MB/s]",
            "_view_count": null,
            "_view_module_version": "1.5.0",
            "description_tooltip": null,
            "_model_module": "@jupyter-widgets/controls",
            "layout": "IPY_MODEL_4a13444664ec419e95b2c3fe25d79b6f"
          }
        },
        "477d4b133e4c4b698446cd2933aba6d8": {
          "model_module": "@jupyter-widgets/controls",
          "model_name": "ProgressStyleModel",
          "state": {
            "_view_name": "StyleView",
            "_model_name": "ProgressStyleModel",
            "description_width": "initial",
            "_view_module": "@jupyter-widgets/base",
            "_model_module_version": "1.5.0",
            "_view_count": null,
            "_view_module_version": "1.2.0",
            "bar_color": null,
            "_model_module": "@jupyter-widgets/controls"
          }
        },
        "6ba82687eb8949b4aaadd44bade518b5": {
          "model_module": "@jupyter-widgets/base",
          "model_name": "LayoutModel",
          "state": {
            "_view_name": "LayoutView",
            "grid_template_rows": null,
            "right": null,
            "justify_content": null,
            "_view_module": "@jupyter-widgets/base",
            "overflow": null,
            "_model_module_version": "1.2.0",
            "_view_count": null,
            "flex_flow": null,
            "width": null,
            "min_width": null,
            "border": null,
            "align_items": null,
            "bottom": null,
            "_model_module": "@jupyter-widgets/base",
            "top": null,
            "grid_column": null,
            "overflow_y": null,
            "overflow_x": null,
            "grid_auto_flow": null,
            "grid_area": null,
            "grid_template_columns": null,
            "flex": null,
            "_model_name": "LayoutModel",
            "justify_items": null,
            "grid_row": null,
            "max_height": null,
            "align_content": null,
            "visibility": null,
            "align_self": null,
            "height": null,
            "min_height": null,
            "padding": null,
            "grid_auto_rows": null,
            "grid_gap": null,
            "max_width": null,
            "order": null,
            "_view_module_version": "1.2.0",
            "grid_template_areas": null,
            "object_position": null,
            "object_fit": null,
            "grid_auto_columns": null,
            "margin": null,
            "display": null,
            "left": null
          }
        },
        "9a345cae9df74730ba14a796701fc067": {
          "model_module": "@jupyter-widgets/controls",
          "model_name": "DescriptionStyleModel",
          "state": {
            "_view_name": "StyleView",
            "_model_name": "DescriptionStyleModel",
            "description_width": "",
            "_view_module": "@jupyter-widgets/base",
            "_model_module_version": "1.5.0",
            "_view_count": null,
            "_view_module_version": "1.2.0",
            "_model_module": "@jupyter-widgets/controls"
          }
        },
        "4a13444664ec419e95b2c3fe25d79b6f": {
          "model_module": "@jupyter-widgets/base",
          "model_name": "LayoutModel",
          "state": {
            "_view_name": "LayoutView",
            "grid_template_rows": null,
            "right": null,
            "justify_content": null,
            "_view_module": "@jupyter-widgets/base",
            "overflow": null,
            "_model_module_version": "1.2.0",
            "_view_count": null,
            "flex_flow": null,
            "width": null,
            "min_width": null,
            "border": null,
            "align_items": null,
            "bottom": null,
            "_model_module": "@jupyter-widgets/base",
            "top": null,
            "grid_column": null,
            "overflow_y": null,
            "overflow_x": null,
            "grid_auto_flow": null,
            "grid_area": null,
            "grid_template_columns": null,
            "flex": null,
            "_model_name": "LayoutModel",
            "justify_items": null,
            "grid_row": null,
            "max_height": null,
            "align_content": null,
            "visibility": null,
            "align_self": null,
            "height": null,
            "min_height": null,
            "padding": null,
            "grid_auto_rows": null,
            "grid_gap": null,
            "max_width": null,
            "order": null,
            "_view_module_version": "1.2.0",
            "grid_template_areas": null,
            "object_position": null,
            "object_fit": null,
            "grid_auto_columns": null,
            "margin": null,
            "display": null,
            "left": null
          }
        },
        "11f2e9e92d9e4ae29d7a8ee355967060": {
          "model_module": "@jupyter-widgets/controls",
          "model_name": "HBoxModel",
          "state": {
            "_view_name": "HBoxView",
            "_dom_classes": [],
            "_model_name": "HBoxModel",
            "_view_module": "@jupyter-widgets/controls",
            "_model_module_version": "1.5.0",
            "_view_count": null,
            "_view_module_version": "1.5.0",
            "box_style": "",
            "layout": "IPY_MODEL_ada5e53a563548b1af0371cd24c42760",
            "_model_module": "@jupyter-widgets/controls",
            "children": [
              "IPY_MODEL_4cd8c38032bf4c4d80568b27f040521f",
              "IPY_MODEL_78e0be7e65964a87b9ecad495767a101"
            ]
          }
        },
        "ada5e53a563548b1af0371cd24c42760": {
          "model_module": "@jupyter-widgets/base",
          "model_name": "LayoutModel",
          "state": {
            "_view_name": "LayoutView",
            "grid_template_rows": null,
            "right": null,
            "justify_content": null,
            "_view_module": "@jupyter-widgets/base",
            "overflow": null,
            "_model_module_version": "1.2.0",
            "_view_count": null,
            "flex_flow": null,
            "width": null,
            "min_width": null,
            "border": null,
            "align_items": null,
            "bottom": null,
            "_model_module": "@jupyter-widgets/base",
            "top": null,
            "grid_column": null,
            "overflow_y": null,
            "overflow_x": null,
            "grid_auto_flow": null,
            "grid_area": null,
            "grid_template_columns": null,
            "flex": null,
            "_model_name": "LayoutModel",
            "justify_items": null,
            "grid_row": null,
            "max_height": null,
            "align_content": null,
            "visibility": null,
            "align_self": null,
            "height": null,
            "min_height": null,
            "padding": null,
            "grid_auto_rows": null,
            "grid_gap": null,
            "max_width": null,
            "order": null,
            "_view_module_version": "1.2.0",
            "grid_template_areas": null,
            "object_position": null,
            "object_fit": null,
            "grid_auto_columns": null,
            "margin": null,
            "display": null,
            "left": null
          }
        },
        "4cd8c38032bf4c4d80568b27f040521f": {
          "model_module": "@jupyter-widgets/controls",
          "model_name": "FloatProgressModel",
          "state": {
            "_view_name": "ProgressView",
            "style": "IPY_MODEL_29e34b272f554b77a43dca053f368d5b",
            "_dom_classes": [],
            "description": "Downloading: 100%",
            "_model_name": "FloatProgressModel",
            "bar_style": "success",
            "max": 231508,
            "_view_module": "@jupyter-widgets/controls",
            "_model_module_version": "1.5.0",
            "value": 231508,
            "_view_count": null,
            "_view_module_version": "1.5.0",
            "orientation": "horizontal",
            "min": 0,
            "description_tooltip": null,
            "_model_module": "@jupyter-widgets/controls",
            "layout": "IPY_MODEL_c61acad588d1423c95bc7212c5663bd2"
          }
        },
        "78e0be7e65964a87b9ecad495767a101": {
          "model_module": "@jupyter-widgets/controls",
          "model_name": "HTMLModel",
          "state": {
            "_view_name": "HTMLView",
            "style": "IPY_MODEL_5a84a3ae4fa746aa81df94a74e22d559",
            "_dom_classes": [],
            "description": "",
            "_model_name": "HTMLModel",
            "placeholder": "​",
            "_view_module": "@jupyter-widgets/controls",
            "_model_module_version": "1.5.0",
            "value": " 232k/232k [00:00&lt;00:00, 296kB/s]",
            "_view_count": null,
            "_view_module_version": "1.5.0",
            "description_tooltip": null,
            "_model_module": "@jupyter-widgets/controls",
            "layout": "IPY_MODEL_2a918d9f09924c868b57631dfbf8a6c0"
          }
        },
        "29e34b272f554b77a43dca053f368d5b": {
          "model_module": "@jupyter-widgets/controls",
          "model_name": "ProgressStyleModel",
          "state": {
            "_view_name": "StyleView",
            "_model_name": "ProgressStyleModel",
            "description_width": "initial",
            "_view_module": "@jupyter-widgets/base",
            "_model_module_version": "1.5.0",
            "_view_count": null,
            "_view_module_version": "1.2.0",
            "bar_color": null,
            "_model_module": "@jupyter-widgets/controls"
          }
        },
        "c61acad588d1423c95bc7212c5663bd2": {
          "model_module": "@jupyter-widgets/base",
          "model_name": "LayoutModel",
          "state": {
            "_view_name": "LayoutView",
            "grid_template_rows": null,
            "right": null,
            "justify_content": null,
            "_view_module": "@jupyter-widgets/base",
            "overflow": null,
            "_model_module_version": "1.2.0",
            "_view_count": null,
            "flex_flow": null,
            "width": null,
            "min_width": null,
            "border": null,
            "align_items": null,
            "bottom": null,
            "_model_module": "@jupyter-widgets/base",
            "top": null,
            "grid_column": null,
            "overflow_y": null,
            "overflow_x": null,
            "grid_auto_flow": null,
            "grid_area": null,
            "grid_template_columns": null,
            "flex": null,
            "_model_name": "LayoutModel",
            "justify_items": null,
            "grid_row": null,
            "max_height": null,
            "align_content": null,
            "visibility": null,
            "align_self": null,
            "height": null,
            "min_height": null,
            "padding": null,
            "grid_auto_rows": null,
            "grid_gap": null,
            "max_width": null,
            "order": null,
            "_view_module_version": "1.2.0",
            "grid_template_areas": null,
            "object_position": null,
            "object_fit": null,
            "grid_auto_columns": null,
            "margin": null,
            "display": null,
            "left": null
          }
        },
        "5a84a3ae4fa746aa81df94a74e22d559": {
          "model_module": "@jupyter-widgets/controls",
          "model_name": "DescriptionStyleModel",
          "state": {
            "_view_name": "StyleView",
            "_model_name": "DescriptionStyleModel",
            "description_width": "",
            "_view_module": "@jupyter-widgets/base",
            "_model_module_version": "1.5.0",
            "_view_count": null,
            "_view_module_version": "1.2.0",
            "_model_module": "@jupyter-widgets/controls"
          }
        },
        "2a918d9f09924c868b57631dfbf8a6c0": {
          "model_module": "@jupyter-widgets/base",
          "model_name": "LayoutModel",
          "state": {
            "_view_name": "LayoutView",
            "grid_template_rows": null,
            "right": null,
            "justify_content": null,
            "_view_module": "@jupyter-widgets/base",
            "overflow": null,
            "_model_module_version": "1.2.0",
            "_view_count": null,
            "flex_flow": null,
            "width": null,
            "min_width": null,
            "border": null,
            "align_items": null,
            "bottom": null,
            "_model_module": "@jupyter-widgets/base",
            "top": null,
            "grid_column": null,
            "overflow_y": null,
            "overflow_x": null,
            "grid_auto_flow": null,
            "grid_area": null,
            "grid_template_columns": null,
            "flex": null,
            "_model_name": "LayoutModel",
            "justify_items": null,
            "grid_row": null,
            "max_height": null,
            "align_content": null,
            "visibility": null,
            "align_self": null,
            "height": null,
            "min_height": null,
            "padding": null,
            "grid_auto_rows": null,
            "grid_gap": null,
            "max_width": null,
            "order": null,
            "_view_module_version": "1.2.0",
            "grid_template_areas": null,
            "object_position": null,
            "object_fit": null,
            "grid_auto_columns": null,
            "margin": null,
            "display": null,
            "left": null
          }
        }
      }
    }
  },
  "cells": [
    {
      "cell_type": "markdown",
      "metadata": {
        "colab_type": "text",
        "id": "JZs1znh5aJql"
      },
      "source": [
        "# Introduction\n",
        "\n",
        "---\n",
        "[This notebook](https://www.kaggle.com/alexs2020/bert-1024-and-distilbert-comparison) shows my approach for the classification of desaster tweets regarding the [NLP Twitter kaggle challange]( https://www.kaggle.com/c/nlp-getting-started/overview).\n",
        "\n",
        "My initial idea was to compare several BERT implementations with each other ([BERT Uncased 1024](https://tfhub.dev/tensorflow/bert_en_uncased_L-24_H-1024_A-16/2), [BERT Uncased 768](https://tfhub.dev/tensorflow/bert_en_uncased_L-12_H-768_A-12/2), [DistilBERT](https://huggingface.co/distilbert-base-uncased)) to get a feeling how well they performe given the task of the kaggle challange. For this, reasearch was done by getting used to the [BERT paper](https://arxiv.org/pdf/1810.04805v2.pdf) to understand the basic foundations of the algorithm as well as the tokenizer. This [colab notebook ](https://colab.research.google.com/github/jalammar/jalammar.github.io/blob/master/notebooks/bert/A_Visual_Notebook_to_Using_BERT_for_the_First_Time.ipynb#scrollTo=q1InADgf5xm2) which is trying to visualize some things was a great inspiration and helped a lot to setup my initial notebook.\n",
        "\n",
        "---\n",
        "This notebook is seperated into different sections, relating to the common data science workflow (except the hypothesis and data collection where already done). \n",
        "\n",
        "1.   Setup and Check Infrastructure\n",
        "2.   Having a first look at the Data (EDA)\n",
        "3.   Helper Functions for Data Cleaning\n",
        "4.   Data Cleaning (Feature Engineering)\n",
        "5.   Pre-trained Bert Uncased model 1024 (& 768) (Model building 1/2)\n",
        "6.   Pre-trained DistilBert model ((Model building 2/2)\n",
        "7.   Showing Confusion Matrices for BERT models (to compare / evaluate)\n",
        "\n",
        "---\n",
        "\n",
        "\n",
        "## Approach:\n",
        "\n",
        "I started with common values mentioned in different notebooks on kaggle (see inspiration in first section) to get a feeling what influences what and how does it generelly work. After gaining some experience I combined several approaches from the notebooks and general information from the internet. The most promising was one relatively at the beginning with a kaggle score of 84.247% (userID: AlexS2020, rank: 116 at 14.09.2020). This involved a relatively simple notebook running on kaggle, using the parameters mentioned in the list in section 5. It was not possible for me to beat this afterwards, although I tried a lot of different ways and optimizations (added apprevations, cleaned only partly, left links in the tweets, emojis, ...).\n",
        "\n",
        "## Evaluation:\n",
        "As will be mentioned in the last section, I used to compare the different val_acc and loss values of different models as well as uploading the submission files to get a direct comperision via the score. Last step to evaluate are the confusion_matrices to see how many false positive/negative and true postivie/negative.\n",
        "\n",
        "## Conclusion:\n",
        "Overall it was an interesting project / competition which enabled me to learn new stuff and try out several tools. It is interesting to see, that the lightweight DistilBERT model is relatively competitive to the way larger BERT 1024 model and the scores do not differ that much. This gets even more interesting when comparing the runtime the 1024 model needs in an equal setup 1458 seconds per epoche, the DistilBERT just 248 seconds (with almost same results after one epoche, see the confusion matrices)!\n",
        "\n",
        "Last learning for today: DistilBERT tends to overfit when using higher learning rates and more epochs way faster then the BERT 1024 model.\n",
        "\n",
        "## Outlook:\n",
        "There are several ways how to improve these scores from my point of view. Some of them can be seen in other notebooks already (especially the larger ones).\n",
        "\n",
        "1.   Run the notebook on larger hardware to play around with larger batch_sizes>16 and larger len_max>160.\n",
        "2.   Adding dropouts to fight the overfitting\n",
        "3.   Using different models behind each other as mentioned in the BERT paper to optimize output\n",
        "4.   Modify the uncased model of BERT with more/different layers and play around with different activation functions, here for example: https://www.kaggle.com/sokolheavy/multi-dropout-aug-oof\n",
        "5.   Write a script on local machine running different learning rates and other parameters so that different optimas can be found. \n",
        "6.   An adaptive learning rate could also help with optimizing the results\n",
        "\n",
        "## Limitations:\n",
        "- Some of the points mentioned in Outlook were not possible since running code in browser + only 36h GPU-time per week is hardly enough\n",
        "- Automation of parameter search not feasible\n",
        "- Getting OOR erros quite offen due to limited GPU storage (its quite big for free use case, still...)\n",
        "\n",
        "---"
      ]
    },
    {
      "cell_type": "markdown",
      "metadata": {
        "id": "arw7GfPodoTO",
        "colab_type": "text"
      },
      "source": [
        "So we beginn here with a short description of the data files, followed by the some general inspiration links which helped at different stages throughout the dev process. At some points I also used functions from these repos to optimize my own code.\n",
        "\n",
        "## References:\n",
        "Inspirations for implementation and design: \n",
        "- https://www.kaggle.com/c/nlp-getting-started/notebooks\n",
        "- https://www.kaggle.com/bryanafreeman/disaster-tweets-with-nlp\n",
        "- https://www.kaggle.com/shahules/basic-eda-cleaning-and-glove\n",
        "- https://www.kaggle.com/choubane/lstm-for-disaster-tweets-80-validation-accuracy\n",
        "- https://colab.research.google.com/github/jalammar/jalammar.github.io/blob/master/notebooks/bert/A_Visual_Notebook_to_Using_BERT_for_the_First_Time.ipynb#scrollTo=q1InADgf5xm2\n",
        "\n",
        "I hope you enjoy going through my first kaggle notebook, if there are any questions or proposals how to do stuff better - please let me know!\n",
        "\n",
        "---"
      ]
    },
    {
      "cell_type": "markdown",
      "metadata": {
        "id": "3MvA3CRzZzI9",
        "colab_type": "text"
      },
      "source": [
        "## Data description\n",
        "Files\n",
        "\n",
        "    train.csv - the training set\n",
        "    test.csv - the test set\n",
        "    sample_submission.csv - a sample submission file in the correct format\n",
        "\n",
        "Columns\n",
        "\n",
        "    id - a unique identifier for each tweet\n",
        "    text - the text of the tweet\n",
        "    location - the location the tweet was sent from (may be blank)\n",
        "    keyword - a particular keyword from the tweet (may be blank)\n",
        "    target - in train.csv only, this denotes whether a tweet is about a real disaster (1) or not (0)\n"
      ]
    },
    {
      "cell_type": "markdown",
      "metadata": {
        "id": "REjuPk9nSSBx",
        "colab_type": "text"
      },
      "source": [
        "# Setup & Check Infrastructure\n",
        "\n",
        "The first step is to get the infrastructure up and running. Important to mention here is that it is strongly recommended to use a GPU for calculation purpose. Next step in this section is to install the needed tools (for DistilBERT and tokenizer) and to import all needed librarys I used at some point in this project."
      ]
    },
    {
      "cell_type": "markdown",
      "metadata": {
        "id": "_I1eEP6oayKa",
        "colab_type": "text"
      },
      "source": [
        "Checking if GPU is enabled, CPU will take way longer. Should say at least \"1\""
      ]
    },
    {
      "cell_type": "code",
      "metadata": {
        "id": "gnJetIRcOIOY",
        "colab_type": "code",
        "colab": {
          "base_uri": "https://localhost:8080/",
          "height": 34
        },
        "outputId": "60252dec-36e6-4cea-a082-4933c09f173f"
      },
      "source": [
        "import tensorflow as tf\n",
        "print(\"Num GPUs Available: \", len(tf.config.experimental.list_physical_devices('GPU')))"
      ],
      "execution_count": 1,
      "outputs": [
        {
          "output_type": "stream",
          "text": [
            "Num GPUs Available:  1\n"
          ],
          "name": "stdout"
        }
      ]
    },
    {
      "cell_type": "markdown",
      "metadata": {
        "id": "VxqoS3eNWcWu",
        "colab_type": "text"
      },
      "source": [
        "Installing transformer needed for encoding (BERT)"
      ]
    },
    {
      "cell_type": "code",
      "metadata": {
        "id": "cT8pK_BHVjdB",
        "colab_type": "code",
        "colab": {
          "base_uri": "https://localhost:8080/",
          "height": 652
        },
        "outputId": "0727ee12-44b7-44aa-cc2f-2c00ccaf0568"
      },
      "source": [
        "## Had some problems here with unknown errors corresponding to DistilBERT as mentioned here: https://github.com/huggingface/transformers/issues/1829\n",
        "# !pip install transformers\n",
        "## ... so installed from source\n",
        "!pip install git+https://github.com/huggingface/transformers\n",
        "\n",
        "import transformers\n",
        "\n",
        "# We will use the official tokenization script created by the Google team\n",
        "!wget --quiet https://raw.githubusercontent.com/tensorflow/models/master/official/nlp/bert/tokenization.py\n",
        "    \n",
        "import tokenization"
      ],
      "execution_count": 2,
      "outputs": [
        {
          "output_type": "stream",
          "text": [
            "Collecting git+https://github.com/huggingface/transformers\n",
            "  Cloning https://github.com/huggingface/transformers to /tmp/pip-req-build-4hm89ef5\n",
            "  Running command git clone -q https://github.com/huggingface/transformers /tmp/pip-req-build-4hm89ef5\n",
            "Requirement already satisfied: numpy in /usr/local/lib/python3.6/dist-packages (from transformers==3.1.0) (1.18.5)\n",
            "Collecting tokenizers==0.8.1.rc2\n",
            "\u001b[?25l  Downloading https://files.pythonhosted.org/packages/80/83/8b9fccb9e48eeb575ee19179e2bdde0ee9a1904f97de5f02d19016b8804f/tokenizers-0.8.1rc2-cp36-cp36m-manylinux1_x86_64.whl (3.0MB)\n",
            "\u001b[K     |████████████████████████████████| 3.0MB 2.7MB/s \n",
            "\u001b[?25hRequirement already satisfied: packaging in /usr/local/lib/python3.6/dist-packages (from transformers==3.1.0) (20.4)\n",
            "Requirement already satisfied: filelock in /usr/local/lib/python3.6/dist-packages (from transformers==3.1.0) (3.0.12)\n",
            "Requirement already satisfied: requests in /usr/local/lib/python3.6/dist-packages (from transformers==3.1.0) (2.23.0)\n",
            "Requirement already satisfied: tqdm>=4.27 in /usr/local/lib/python3.6/dist-packages (from transformers==3.1.0) (4.41.1)\n",
            "Requirement already satisfied: regex!=2019.12.17 in /usr/local/lib/python3.6/dist-packages (from transformers==3.1.0) (2019.12.20)\n",
            "Collecting sentencepiece!=0.1.92\n",
            "\u001b[?25l  Downloading https://files.pythonhosted.org/packages/d4/a4/d0a884c4300004a78cca907a6ff9a5e9fe4f090f5d95ab341c53d28cbc58/sentencepiece-0.1.91-cp36-cp36m-manylinux1_x86_64.whl (1.1MB)\n",
            "\u001b[K     |████████████████████████████████| 1.1MB 24.4MB/s \n",
            "\u001b[?25hCollecting sacremoses\n",
            "\u001b[?25l  Downloading https://files.pythonhosted.org/packages/7d/34/09d19aff26edcc8eb2a01bed8e98f13a1537005d31e95233fd48216eed10/sacremoses-0.0.43.tar.gz (883kB)\n",
            "\u001b[K     |████████████████████████████████| 890kB 32.1MB/s \n",
            "\u001b[?25hRequirement already satisfied: dataclasses in /usr/local/lib/python3.6/dist-packages (from transformers==3.1.0) (0.7)\n",
            "Requirement already satisfied: six in /usr/local/lib/python3.6/dist-packages (from packaging->transformers==3.1.0) (1.15.0)\n",
            "Requirement already satisfied: pyparsing>=2.0.2 in /usr/local/lib/python3.6/dist-packages (from packaging->transformers==3.1.0) (2.4.7)\n",
            "Requirement already satisfied: urllib3!=1.25.0,!=1.25.1,<1.26,>=1.21.1 in /usr/local/lib/python3.6/dist-packages (from requests->transformers==3.1.0) (1.24.3)\n",
            "Requirement already satisfied: certifi>=2017.4.17 in /usr/local/lib/python3.6/dist-packages (from requests->transformers==3.1.0) (2020.6.20)\n",
            "Requirement already satisfied: chardet<4,>=3.0.2 in /usr/local/lib/python3.6/dist-packages (from requests->transformers==3.1.0) (3.0.4)\n",
            "Requirement already satisfied: idna<3,>=2.5 in /usr/local/lib/python3.6/dist-packages (from requests->transformers==3.1.0) (2.10)\n",
            "Requirement already satisfied: click in /usr/local/lib/python3.6/dist-packages (from sacremoses->transformers==3.1.0) (7.1.2)\n",
            "Requirement already satisfied: joblib in /usr/local/lib/python3.6/dist-packages (from sacremoses->transformers==3.1.0) (0.16.0)\n",
            "Building wheels for collected packages: transformers, sacremoses\n",
            "  Building wheel for transformers (setup.py) ... \u001b[?25l\u001b[?25hdone\n",
            "  Created wheel for transformers: filename=transformers-3.1.0-cp36-none-any.whl size=962665 sha256=edc885d07823edb4865285b11fbb61cc0ea38170599bc9a832f674905b738e70\n",
            "  Stored in directory: /tmp/pip-ephem-wheel-cache-jly16t98/wheels/70/d3/52/b3fa4f8b8ef04167ac62e5bb2accb62ae764db2a378247490e\n",
            "  Building wheel for sacremoses (setup.py) ... \u001b[?25l\u001b[?25hdone\n",
            "  Created wheel for sacremoses: filename=sacremoses-0.0.43-cp36-none-any.whl size=893257 sha256=23544ac9467b78b1d6d3d2bce44cf68553274b4cc2fbf4228f3a814f857170ea\n",
            "  Stored in directory: /root/.cache/pip/wheels/29/3c/fd/7ce5c3f0666dab31a50123635e6fb5e19ceb42ce38d4e58f45\n",
            "Successfully built transformers sacremoses\n",
            "Installing collected packages: tokenizers, sentencepiece, sacremoses, transformers\n",
            "Successfully installed sacremoses-0.0.43 sentencepiece-0.1.91 tokenizers-0.8.1rc2 transformers-3.1.0\n"
          ],
          "name": "stdout"
        }
      ]
    },
    {
      "cell_type": "markdown",
      "metadata": {
        "id": "dNELrx3aWmNo",
        "colab_type": "text"
      },
      "source": [
        "Import Librarys for data visualization, data cleaning and ML models"
      ]
    },
    {
      "cell_type": "code",
      "metadata": {
        "id": "WoLycPYfOIOj",
        "colab_type": "code",
        "colab": {
          "base_uri": "https://localhost:8080/",
          "height": 170
        },
        "outputId": "97a69fc2-3df1-41a5-9d32-1a5b5fadf51a"
      },
      "source": [
        "import numpy as np\n",
        "import pandas as pd\n",
        "import matplotlib.pyplot as plt\n",
        "import seaborn as sns\n",
        "import re\n",
        "import string\n",
        "import urllib\n",
        "from sklearn.model_selection import train_test_split\n",
        "from sklearn.metrics import classification_report,confusion_matrix\n",
        "\n",
        "import nltk\n",
        "nltk.download('stopwords')\n",
        "nltk.download('wordnet')\n",
        "nltk.download('punkt')\n",
        "from nltk.tokenize import word_tokenize\n",
        "\n",
        "from tensorflow.keras.layers import Dense, Input, Flatten, Dropout\n",
        "from tensorflow.keras.optimizers import Adam\n",
        "from tensorflow.keras.models import Model\n",
        "from tensorflow.keras.callbacks import ModelCheckpoint\n",
        "import tensorflow_hub as hub"
      ],
      "execution_count": 3,
      "outputs": [
        {
          "output_type": "stream",
          "text": [
            "/usr/local/lib/python3.6/dist-packages/statsmodels/tools/_testing.py:19: FutureWarning: pandas.util.testing is deprecated. Use the functions in the public API at pandas.testing instead.\n",
            "  import pandas.util.testing as tm\n"
          ],
          "name": "stderr"
        },
        {
          "output_type": "stream",
          "text": [
            "[nltk_data] Downloading package stopwords to /root/nltk_data...\n",
            "[nltk_data]   Unzipping corpora/stopwords.zip.\n",
            "[nltk_data] Downloading package wordnet to /root/nltk_data...\n",
            "[nltk_data]   Unzipping corpora/wordnet.zip.\n",
            "[nltk_data] Downloading package punkt to /root/nltk_data...\n",
            "[nltk_data]   Unzipping tokenizers/punkt.zip.\n"
          ],
          "name": "stdout"
        }
      ]
    },
    {
      "cell_type": "markdown",
      "metadata": {
        "id": "8kNgUvFwapIs",
        "colab_type": "text"
      },
      "source": [
        "Here the data is loaded for easy access in the project. These paths have to be manipulated if running in colab.\n",
        "\n",
        "Printing the shapes to get a feeling for the structure before jumping into the next section."
      ]
    },
    {
      "cell_type": "code",
      "metadata": {
        "id": "XjjmmxL3QUT-",
        "colab_type": "code",
        "colab": {
          "base_uri": "https://localhost:8080/",
          "height": 67
        },
        "outputId": "e30554b3-78f2-4a20-87f6-6855ac55fb44"
      },
      "source": [
        "train_data = pd.read_csv(\"/home/train.csv\")\n",
        "test_data = pd.read_csv(\"/home/test.csv\")\n",
        "sample_sub = pd.read_csv(\"/home/sample_submission.csv\")\n",
        "\n",
        "#train_data = pd.read_csv(\"/kaggle/input/nlp-getting-started/train.csv\")\n",
        "#test_data = pd.read_csv(\"/kaggle/input/nlp-getting-started/test.csv\")\n",
        "#sample_sub = pd.read_csv(\"/kaggle/input/nlp-getting-started/sample_submission.csv\")\n",
        "print('Train data shape: {}'.format(train_data.shape))\n",
        "print('Test data shape: {}'.format(test_data.shape))\n",
        "print('Sample submission shape: {}'.format(sample_sub.shape))"
      ],
      "execution_count": 4,
      "outputs": [
        {
          "output_type": "stream",
          "text": [
            "Train data shape: (7613, 5)\n",
            "Test data shape: (3263, 4)\n",
            "Sample submission shape: (3263, 2)\n"
          ],
          "name": "stdout"
        }
      ]
    },
    {
      "cell_type": "markdown",
      "metadata": {
        "id": "Enve8NhTWzfr",
        "colab_type": "text"
      },
      "source": [
        "# Having a first look at the Data (EDA)\n",
        "\n",
        "Before we can train something which classifies the phrases we first have to take a look what data we have available. An important part is to check whether there is an unacceptable difference between the different labeled groups. Afterwards we do the regular checking of NaNs and then visualizing the word counts in the tweets. "
      ]
    },
    {
      "cell_type": "code",
      "metadata": {
        "id": "UoHt0AKeVUtP",
        "colab_type": "code",
        "colab": {
          "base_uri": "https://localhost:8080/",
          "height": 187
        },
        "outputId": "df42709f-5e20-4345-ca80-54956cf414ce"
      },
      "source": [
        "train_data.head()"
      ],
      "execution_count": 5,
      "outputs": [
        {
          "output_type": "execute_result",
          "data": {
            "text/html": [
              "<div>\n",
              "<style scoped>\n",
              "    .dataframe tbody tr th:only-of-type {\n",
              "        vertical-align: middle;\n",
              "    }\n",
              "\n",
              "    .dataframe tbody tr th {\n",
              "        vertical-align: top;\n",
              "    }\n",
              "\n",
              "    .dataframe thead th {\n",
              "        text-align: right;\n",
              "    }\n",
              "</style>\n",
              "<table border=\"1\" class=\"dataframe\">\n",
              "  <thead>\n",
              "    <tr style=\"text-align: right;\">\n",
              "      <th></th>\n",
              "      <th>id</th>\n",
              "      <th>keyword</th>\n",
              "      <th>location</th>\n",
              "      <th>text</th>\n",
              "      <th>target</th>\n",
              "    </tr>\n",
              "  </thead>\n",
              "  <tbody>\n",
              "    <tr>\n",
              "      <th>0</th>\n",
              "      <td>1</td>\n",
              "      <td>NaN</td>\n",
              "      <td>NaN</td>\n",
              "      <td>Our Deeds are the Reason of this #earthquake M...</td>\n",
              "      <td>1</td>\n",
              "    </tr>\n",
              "    <tr>\n",
              "      <th>1</th>\n",
              "      <td>4</td>\n",
              "      <td>NaN</td>\n",
              "      <td>NaN</td>\n",
              "      <td>Forest fire near La Ronge Sask. Canada</td>\n",
              "      <td>1</td>\n",
              "    </tr>\n",
              "    <tr>\n",
              "      <th>2</th>\n",
              "      <td>5</td>\n",
              "      <td>NaN</td>\n",
              "      <td>NaN</td>\n",
              "      <td>All residents asked to 'shelter in place' are ...</td>\n",
              "      <td>1</td>\n",
              "    </tr>\n",
              "    <tr>\n",
              "      <th>3</th>\n",
              "      <td>6</td>\n",
              "      <td>NaN</td>\n",
              "      <td>NaN</td>\n",
              "      <td>13,000 people receive #wildfires evacuation or...</td>\n",
              "      <td>1</td>\n",
              "    </tr>\n",
              "    <tr>\n",
              "      <th>4</th>\n",
              "      <td>7</td>\n",
              "      <td>NaN</td>\n",
              "      <td>NaN</td>\n",
              "      <td>Just got sent this photo from Ruby #Alaska as ...</td>\n",
              "      <td>1</td>\n",
              "    </tr>\n",
              "  </tbody>\n",
              "</table>\n",
              "</div>"
            ],
            "text/plain": [
              "   id keyword  ...                                               text target\n",
              "0   1     NaN  ...  Our Deeds are the Reason of this #earthquake M...      1\n",
              "1   4     NaN  ...             Forest fire near La Ronge Sask. Canada      1\n",
              "2   5     NaN  ...  All residents asked to 'shelter in place' are ...      1\n",
              "3   6     NaN  ...  13,000 people receive #wildfires evacuation or...      1\n",
              "4   7     NaN  ...  Just got sent this photo from Ruby #Alaska as ...      1\n",
              "\n",
              "[5 rows x 5 columns]"
            ]
          },
          "metadata": {
            "tags": []
          },
          "execution_count": 5
        }
      ]
    },
    {
      "cell_type": "markdown",
      "metadata": {
        "id": "eke6ociAW72e",
        "colab_type": "text"
      },
      "source": [
        "Checking how many true (1) and false (0) desaster tweets are in the set. Looks fairly distributed so no hustle due to an imbalanced dataset needed here."
      ]
    },
    {
      "cell_type": "code",
      "metadata": {
        "id": "whp_85U_WRlS",
        "colab_type": "code",
        "colab": {
          "base_uri": "https://localhost:8080/",
          "height": 348
        },
        "outputId": "a303eb15-de29-4607-abc0-11a496b37a41"
      },
      "source": [
        "label = 'Disaster', 'Non-Disaster'\n",
        "data = train_data.target.value_counts()\n",
        "\n",
        "fig1, ax1 = plt.subplots()\n",
        "ax1.pie(data, labels=label,  startangle=90, autopct='%1.1f%%')"
      ],
      "execution_count": 6,
      "outputs": [
        {
          "output_type": "execute_result",
          "data": {
            "text/plain": [
              "([<matplotlib.patches.Wedge at 0x7f824be9b630>,\n",
              "  <matplotlib.patches.Wedge at 0x7f824be9bdd8>],\n",
              " [Text(-1.0732513534192263, -0.24110481617711227, 'Disaster'),\n",
              "  Text(1.0732513534192263, 0.2411048161771121, 'Non-Disaster')],\n",
              " [Text(-0.5854098291377597, -0.1315117179147885, '57.0%'),\n",
              "  Text(0.5854098291377597, 0.1315117179147884, '43.0%')])"
            ]
          },
          "metadata": {
            "tags": []
          },
          "execution_count": 6
        },
        {
          "output_type": "display_data",
          "data": {
            "image/png": "[encoded data removed]",
            "text/plain": [
              "<Figure size 432x288 with 1 Axes>"
            ]
          },
          "metadata": {
            "tags": []
          }
        }
      ]
    },
    {
      "cell_type": "code",
      "metadata": {
        "id": "uGcg4agZRDDl",
        "colab_type": "code",
        "colab": {
          "base_uri": "https://localhost:8080/",
          "height": 67
        },
        "outputId": "7c98e37a-e8b2-43cc-a8af-46f3e460b7a0"
      },
      "source": [
        "train_data.target.value_counts() #Label counts"
      ],
      "execution_count": 7,
      "outputs": [
        {
          "output_type": "execute_result",
          "data": {
            "text/plain": [
              "0    4342\n",
              "1    3271\n",
              "Name: target, dtype: int64"
            ]
          },
          "metadata": {
            "tags": []
          },
          "execution_count": 7
        }
      ]
    },
    {
      "cell_type": "markdown",
      "metadata": {
        "id": "YrRh7sI7XTll",
        "colab_type": "text"
      },
      "source": [
        "Having a look at the data and how often NaN shows up. Its obvious that location misses in around a third of the tweets, keywords are only rarely missing."
      ]
    },
    {
      "cell_type": "code",
      "metadata": {
        "id": "9VBD6PbRQUqP",
        "colab_type": "code",
        "colab": {
          "base_uri": "https://localhost:8080/",
          "height": 117
        },
        "outputId": "f3fbd06a-ec96-4d0d-ec29-d20f7167bfe8"
      },
      "source": [
        "train_data.isnull().sum()"
      ],
      "execution_count": 8,
      "outputs": [
        {
          "output_type": "execute_result",
          "data": {
            "text/plain": [
              "id             0\n",
              "keyword       61\n",
              "location    2533\n",
              "text           0\n",
              "target         0\n",
              "dtype: int64"
            ]
          },
          "metadata": {
            "tags": []
          },
          "execution_count": 8
        }
      ]
    },
    {
      "cell_type": "markdown",
      "metadata": {
        "id": "alQfMQciau8d",
        "colab_type": "text"
      },
      "source": [
        "Checking the number of characters showing up per tweet in the two groups. They look pretty much alike, no huge discrepancy visible. A lot of Tweets seem to be in the range of 100 - 140 characters."
      ]
    },
    {
      "cell_type": "code",
      "metadata": {
        "id": "ywrJi3_TYTVJ",
        "colab_type": "code",
        "colab": {
          "base_uri": "https://localhost:8080/",
          "height": 356
        },
        "outputId": "11a374ac-3b4b-4d2a-884e-13605c2c7d6f"
      },
      "source": [
        "## Adopted from https://www.kaggle.com/sagar7390/nlp-on-disaster-tweets-eda-glove-bert-using-tfhub/comments#data\n",
        "fig,(ax1,ax2)=plt.subplots(1,2,figsize=(10,5))\n",
        "tweet_len=train_data[train_data['target']==1]['text'].str.len()\n",
        "ax1.hist(tweet_len, color='red')\n",
        "ax1.set_title('disaster tweets')\n",
        "tweet_len=train_data[train_data['target']==0]['text'].str.len()\n",
        "ax2.hist(tweet_len,color='green')\n",
        "ax2.set_title('Not disaster tweets')\n",
        "fig.suptitle('Characters in tweets')\n",
        "plt.show()"
      ],
      "execution_count": 9,
      "outputs": [
        {
          "output_type": "display_data",
          "data": {
            "image/png": "[encoded data removed]",
            "text/plain": [
              "<Figure size 720x360 with 2 Axes>"
            ]
          },
          "metadata": {
            "tags": [],
            "needs_background": "light"
          }
        }
      ]
    },
    {
      "cell_type": "markdown",
      "metadata": {
        "id": "sgxMEKiRYIyE",
        "colab_type": "text"
      },
      "source": [
        ""
      ]
    },
    {
      "cell_type": "markdown",
      "metadata": {
        "id": "Qk-H48VOA72L",
        "colab_type": "text"
      },
      "source": [
        "# Helper functions\n",
        "\n",
        "As pictured in the above list there is a lot of information in these tweets which is potentially not relevant for our classification task. In order to optimize our runtime and to focuse on the important information we have to filter the tweets. This will be done in the next section EDA 2/2."
      ]
    },
    {
      "cell_type": "markdown",
      "metadata": {
        "id": "0jOUxipaewWp",
        "colab_type": "text"
      },
      "source": [
        "Cleaning and exchanging abbreviations, links, smileys."
      ]
    },
    {
      "cell_type": "code",
      "metadata": {
        "id": "9X-vOU1EdKuU",
        "colab_type": "code",
        "colab": {}
      },
      "source": [
        "# Thanks to https://www.kaggle.com/rftexas/text-only-kfold-bert\n",
        "abbreviations = {\n",
        "    \"$\" : \" dollar \",\n",
        "    \"€\" : \" euro \",\n",
        "    \"4ao\" : \"for adults only\",\n",
        "    \"a.m\" : \"before midday\",\n",
        "    \"a3\" : \"anytime anywhere anyplace\",\n",
        "    \"aamof\" : \"as a matter of fact\",\n",
        "    \"acct\" : \"account\",\n",
        "    \"adih\" : \"another day in hell\",\n",
        "    \"afaic\" : \"as far as i am concerned\",\n",
        "    \"afaict\" : \"as far as i can tell\",\n",
        "    \"afaik\" : \"as far as i know\",\n",
        "    \"afair\" : \"as far as i remember\",\n",
        "    \"afk\" : \"away from keyboard\",\n",
        "    \"app\" : \"application\",\n",
        "    \"approx\" : \"approximately\",\n",
        "    \"apps\" : \"applications\",\n",
        "    \"asap\" : \"as soon as possible\",\n",
        "    \"asl\" : \"age, sex, location\",\n",
        "    \"atk\" : \"at the keyboard\",\n",
        "    \"ave.\" : \"avenue\",\n",
        "    \"aymm\" : \"are you my mother\",\n",
        "    \"ayor\" : \"at your own risk\", \n",
        "    \"b&b\" : \"bed and breakfast\",\n",
        "    \"b+b\" : \"bed and breakfast\",\n",
        "    \"b.c\" : \"before christ\",\n",
        "    \"b2b\" : \"business to business\",\n",
        "    \"b2c\" : \"business to customer\",\n",
        "    \"b4\" : \"before\",\n",
        "    \"b4n\" : \"bye for now\",\n",
        "    \"b@u\" : \"back at you\",\n",
        "    \"bae\" : \"before anyone else\",\n",
        "    \"bak\" : \"back at keyboard\",\n",
        "    \"bbbg\" : \"bye bye be good\",\n",
        "    \"bbc\" : \"british broadcasting corporation\",\n",
        "    \"bbias\" : \"be back in a second\",\n",
        "    \"bbl\" : \"be back later\",\n",
        "    \"bbs\" : \"be back soon\",\n",
        "    \"be4\" : \"before\",\n",
        "    \"bfn\" : \"bye for now\",\n",
        "    \"blvd\" : \"boulevard\",\n",
        "    \"bout\" : \"about\",\n",
        "    \"brb\" : \"be right back\",\n",
        "    \"bros\" : \"brothers\",\n",
        "    \"brt\" : \"be right there\",\n",
        "    \"bsaaw\" : \"big smile and a wink\",\n",
        "    \"btw\" : \"by the way\",\n",
        "    \"bwl\" : \"bursting with laughter\",\n",
        "    \"c/o\" : \"care of\",\n",
        "    \"cet\" : \"central european time\",\n",
        "    \"cf\" : \"compare\",\n",
        "    \"cia\" : \"central intelligence agency\",\n",
        "    \"csl\" : \"can not stop laughing\",\n",
        "    \"cu\" : \"see you\",\n",
        "    \"cul8r\" : \"see you later\",\n",
        "    \"cv\" : \"curriculum vitae\",\n",
        "    \"cwot\" : \"complete waste of time\",\n",
        "    \"cya\" : \"see you\",\n",
        "    \"cyt\" : \"see you tomorrow\",\n",
        "    \"dae\" : \"does anyone else\",\n",
        "    \"dbmib\" : \"do not bother me i am busy\",\n",
        "    \"diy\" : \"do it yourself\",\n",
        "    \"dm\" : \"direct message\",\n",
        "    \"dwh\" : \"during work hours\",\n",
        "    \"e123\" : \"easy as one two three\",\n",
        "    \"eet\" : \"eastern european time\",\n",
        "    \"eg\" : \"example\",\n",
        "    \"embm\" : \"early morning business meeting\",\n",
        "    \"encl\" : \"enclosed\",\n",
        "    \"encl.\" : \"enclosed\",\n",
        "    \"etc\" : \"and so on\",\n",
        "    \"faq\" : \"frequently asked questions\",\n",
        "    \"fawc\" : \"for anyone who cares\",\n",
        "    \"fb\" : \"facebook\",\n",
        "    \"fc\" : \"fingers crossed\",\n",
        "    \"fig\" : \"figure\",\n",
        "    \"fimh\" : \"forever in my heart\", \n",
        "    \"ft.\" : \"feet\",\n",
        "    \"ft\" : \"featuring\",\n",
        "    \"ftl\" : \"for the loss\",\n",
        "    \"ftw\" : \"for the win\",\n",
        "    \"fwiw\" : \"for what it is worth\",\n",
        "    \"fyi\" : \"for your information\",\n",
        "    \"g9\" : \"genius\",\n",
        "    \"gahoy\" : \"get a hold of yourself\",\n",
        "    \"gal\" : \"get a life\",\n",
        "    \"gcse\" : \"general certificate of secondary education\",\n",
        "    \"gfn\" : \"gone for now\",\n",
        "    \"gg\" : \"good game\",\n",
        "    \"gl\" : \"good luck\",\n",
        "    \"glhf\" : \"good luck have fun\",\n",
        "    \"gmt\" : \"greenwich mean time\",\n",
        "    \"gmta\" : \"great minds think alike\",\n",
        "    \"gn\" : \"good night\",\n",
        "    \"g.o.a.t\" : \"greatest of all time\",\n",
        "    \"goat\" : \"greatest of all time\",\n",
        "    \"goi\" : \"get over it\",\n",
        "    \"gps\" : \"global positioning system\",\n",
        "    \"gr8\" : \"great\",\n",
        "    \"gratz\" : \"congratulations\",\n",
        "    \"gyal\" : \"girl\",\n",
        "    \"h&c\" : \"hot and cold\",\n",
        "    \"hp\" : \"horsepower\",\n",
        "    \"hr\" : \"hour\",\n",
        "    \"hrh\" : \"his royal highness\",\n",
        "    \"ht\" : \"height\",\n",
        "    \"ibrb\" : \"i will be right back\",\n",
        "    \"ic\" : \"i see\",\n",
        "    \"icq\" : \"i seek you\",\n",
        "    \"icymi\" : \"in case you missed it\",\n",
        "    \"idc\" : \"i do not care\",\n",
        "    \"idgadf\" : \"i do not give a damn fuck\",\n",
        "    \"idgaf\" : \"i do not give a fuck\",\n",
        "    \"idk\" : \"i do not know\",\n",
        "    \"ie\" : \"that is\",\n",
        "    \"i.e\" : \"that is\",\n",
        "    \"ifyp\" : \"i feel your pain\",\n",
        "    \"IG\" : \"instagram\",\n",
        "    \"iirc\" : \"if i remember correctly\",\n",
        "    \"ilu\" : \"i love you\",\n",
        "    \"ily\" : \"i love you\",\n",
        "    \"imho\" : \"in my humble opinion\",\n",
        "    \"imo\" : \"in my opinion\",\n",
        "    \"imu\" : \"i miss you\",\n",
        "    \"iow\" : \"in other words\",\n",
        "    \"irl\" : \"in real life\",\n",
        "    \"j4f\" : \"just for fun\",\n",
        "    \"jic\" : \"just in case\",\n",
        "    \"jk\" : \"just kidding\",\n",
        "    \"jsyk\" : \"just so you know\",\n",
        "    \"l8r\" : \"later\",\n",
        "    \"lb\" : \"pound\",\n",
        "    \"lbs\" : \"pounds\",\n",
        "    \"ldr\" : \"long distance relationship\",\n",
        "    \"lmao\" : \"laugh my ass off\",\n",
        "    \"lmfao\" : \"laugh my fucking ass off\",\n",
        "    \"lol\" : \"laughing out loud\",\n",
        "    \"ltd\" : \"limited\",\n",
        "    \"ltns\" : \"long time no see\",\n",
        "    \"m8\" : \"mate\",\n",
        "    \"mf\" : \"motherfucker\",\n",
        "    \"mfs\" : \"motherfuckers\",\n",
        "    \"mfw\" : \"my face when\",\n",
        "    \"mofo\" : \"motherfucker\",\n",
        "    \"mph\" : \"miles per hour\",\n",
        "    \"mr\" : \"mister\",\n",
        "    \"mrw\" : \"my reaction when\",\n",
        "    \"ms\" : \"miss\",\n",
        "    \"mte\" : \"my thoughts exactly\",\n",
        "    \"nagi\" : \"not a good idea\",\n",
        "    \"nbc\" : \"national broadcasting company\",\n",
        "    \"nbd\" : \"not big deal\",\n",
        "    \"nfs\" : \"not for sale\",\n",
        "    \"ngl\" : \"not going to lie\",\n",
        "    \"nhs\" : \"national health service\",\n",
        "    \"nrn\" : \"no reply necessary\",\n",
        "    \"nsfl\" : \"not safe for life\",\n",
        "    \"nsfw\" : \"not safe for work\",\n",
        "    \"nth\" : \"nice to have\",\n",
        "    \"nvr\" : \"never\",\n",
        "    \"nyc\" : \"new york city\",\n",
        "    \"oc\" : \"original content\",\n",
        "    \"og\" : \"original\",\n",
        "    \"ohp\" : \"overhead projector\",\n",
        "    \"oic\" : \"oh i see\",\n",
        "    \"omdb\" : \"over my dead body\",\n",
        "    \"omg\" : \"oh my god\",\n",
        "    \"omw\" : \"on my way\",\n",
        "    \"p.a\" : \"per annum\",\n",
        "    \"p.m\" : \"after midday\",\n",
        "    \"pm\" : \"prime minister\",\n",
        "    \"poc\" : \"people of color\",\n",
        "    \"pov\" : \"point of view\",\n",
        "    \"pp\" : \"pages\",\n",
        "    \"ppl\" : \"people\",\n",
        "    \"prw\" : \"parents are watching\",\n",
        "    \"ps\" : \"postscript\",\n",
        "    \"pt\" : \"point\",\n",
        "    \"ptb\" : \"please text back\",\n",
        "    \"pto\" : \"please turn over\",\n",
        "    \"qpsa\" : \"what happens\", #\"que pasa\",\n",
        "    \"ratchet\" : \"rude\",\n",
        "    \"rbtl\" : \"read between the lines\",\n",
        "    \"rlrt\" : \"real life retweet\", \n",
        "    \"rofl\" : \"rolling on the floor laughing\",\n",
        "    \"roflol\" : \"rolling on the floor laughing out loud\",\n",
        "    \"rotflmao\" : \"rolling on the floor laughing my ass off\",\n",
        "    \"rt\" : \"retweet\",\n",
        "    \"ruok\" : \"are you ok\",\n",
        "    \"sfw\" : \"safe for work\",\n",
        "    \"sk8\" : \"skate\",\n",
        "    \"smh\" : \"shake my head\",\n",
        "    \"sq\" : \"square\",\n",
        "    \"srsly\" : \"seriously\", \n",
        "    \"ssdd\" : \"same stuff different day\",\n",
        "    \"tbh\" : \"to be honest\",\n",
        "    \"tbs\" : \"tablespooful\",\n",
        "    \"tbsp\" : \"tablespooful\",\n",
        "    \"tfw\" : \"that feeling when\",\n",
        "    \"thks\" : \"thank you\",\n",
        "    \"tho\" : \"though\",\n",
        "    \"thx\" : \"thank you\",\n",
        "    \"tia\" : \"thanks in advance\",\n",
        "    \"til\" : \"today i learned\",\n",
        "    \"tl;dr\" : \"too long i did not read\",\n",
        "    \"tldr\" : \"too long i did not read\",\n",
        "    \"tmb\" : \"tweet me back\",\n",
        "    \"tntl\" : \"trying not to laugh\",\n",
        "    \"ttyl\" : \"talk to you later\",\n",
        "    \"u\" : \"you\",\n",
        "    \"u2\" : \"you too\",\n",
        "    \"u4e\" : \"yours for ever\",\n",
        "    \"utc\" : \"coordinated universal time\",\n",
        "    \"w/\" : \"with\",\n",
        "    \"w/o\" : \"without\",\n",
        "    \"w8\" : \"wait\",\n",
        "    \"wassup\" : \"what is up\",\n",
        "    \"wb\" : \"welcome back\",\n",
        "    \"wtf\" : \"what the fuck\",\n",
        "    \"wtg\" : \"way to go\",\n",
        "    \"wtpa\" : \"where the party at\",\n",
        "    \"wuf\" : \"where are you from\",\n",
        "    \"wuzup\" : \"what is up\",\n",
        "    \"wywh\" : \"wish you were here\",\n",
        "    \"yd\" : \"yard\",\n",
        "    \"ygtr\" : \"you got that right\",\n",
        "    \"ynk\" : \"you never know\",\n",
        "    \"zzz\" : \"sleeping bored and tired\"\n",
        "}\n",
        "\n",
        "def convert_abbrev(word):\n",
        "    return abbreviations[word.lower()] if word.lower() in abbreviations.keys() else word\n",
        "\n",
        "# Thanks to https://www.kaggle.com/rftexas/text-only-kfold-bert\n",
        "def convert_abbrev_in_text(text):\n",
        "    tokens = word_tokenize(text)\n",
        "    tokens = [convert_abbrev(word) for word in tokens]\n",
        "    text = ' '.join(tokens)\n",
        "    return text"
      ],
      "execution_count": 10,
      "outputs": []
    },
    {
      "cell_type": "code",
      "metadata": {
        "id": "vzfFDaH6ebBy",
        "colab_type": "code",
        "colab": {}
      },
      "source": [
        "def clean_tweets(text):\n",
        "    url = re.compile(r'https?://\\S+|www\\.\\S+')\n",
        "    html=re.compile(r'<.*?>')\n",
        "    emoji_pattern = re.compile(\"[\"\n",
        "                           u\"\\U0001F600-\\U0001F64F\"  # emoticons\n",
        "                           u\"\\U0001F300-\\U0001F5FF\"  # symbols & pictographs\n",
        "                           u\"\\U0001F680-\\U0001F6FF\"  # transport & map symbols\n",
        "                           u\"\\U0001F1E0-\\U0001F1FF\"  # flags (iOS)\n",
        "                           u\"\\U00002702-\\U000027B0\"\n",
        "                           u\"\\U000024C2-\\U0001F251\"\n",
        "                           \"]+\", flags=re.UNICODE)\n",
        "    table=str.maketrans('','',string.punctuation)\n",
        "    \n",
        "    text = url.sub(r'',text)\n",
        "    text = html.sub(r'',text)\n",
        "    text = emoji_pattern.sub(r'', text)\n",
        "    text = text.translate(table)\n",
        "\n",
        "    return text"
      ],
      "execution_count": 11,
      "outputs": []
    },
    {
      "cell_type": "markdown",
      "metadata": {
        "id": "Xsb7IaLeexV_",
        "colab_type": "text"
      },
      "source": [
        "# Data Cleaning (Feature engineering)\n",
        "\n",
        "Before being able to start with the classification, the data must be cleaned up and transferred into a proper structure (tokenization) so that the classifier is able to handle the tweets.\n",
        "\n",
        "---"
      ]
    },
    {
      "cell_type": "markdown",
      "metadata": {
        "id": "EAu4EY3GfrX5",
        "colab_type": "text"
      },
      "source": [
        "In the tweets there are many different special characters and links, which should be removed at the beginning since the take calculation power and do not add value to the classification. I combined several cleanings in the helper functions to keep the lambda function calls as clean as possible.\n",
        "\n",
        "Also tried different versions as mentioned in the next section with cleaning only specific things up (in example links, tags, emojis) or just cleaning the train data, not the test data. Overall, it worked better with the functions in place."
      ]
    },
    {
      "cell_type": "code",
      "metadata": {
        "id": "CGx5iyZIQU7t",
        "colab_type": "code",
        "colab": {
          "base_uri": "https://localhost:8080/",
          "height": 250
        },
        "outputId": "624b1d59-3167-4e71-f411-1df382114851"
      },
      "source": [
        "test_data.head"
      ],
      "execution_count": 13,
      "outputs": [
        {
          "output_type": "execute_result",
          "data": {
            "text/plain": [
              "<bound method NDFrame.head of          id keyword location                                               text\n",
              "0         0     NaN      NaN                 Just happened a terrible car crash\n",
              "1         2     NaN      NaN  Heard about #earthquake is different cities, s...\n",
              "2         3     NaN      NaN  there is a forest fire at spot pond, geese are...\n",
              "3         9     NaN      NaN           Apocalypse lighting. #Spokane #wildfires\n",
              "4        11     NaN      NaN      Typhoon Soudelor kills 28 in China and Taiwan\n",
              "...     ...     ...      ...                                                ...\n",
              "3258  10861     NaN      NaN  EARTHQUAKE SAFETY LOS ANGELES ÛÒ SAFETY FASTE...\n",
              "3259  10865     NaN      NaN  Storm in RI worse than last hurricane. My city...\n",
              "3260  10868     NaN      NaN  Green Line derailment in Chicago http://t.co/U...\n",
              "3261  10874     NaN      NaN  MEG issues Hazardous Weather Outlook (HWO) htt...\n",
              "3262  10875     NaN      NaN  #CityofCalgary has activated its Municipal Eme...\n",
              "\n",
              "[3263 rows x 4 columns]>"
            ]
          },
          "metadata": {
            "tags": []
          },
          "execution_count": 13
        }
      ]
    },
    {
      "cell_type": "code",
      "metadata": {
        "id": "WbJ65orDg_2Z",
        "colab_type": "code",
        "colab": {
          "base_uri": "https://localhost:8080/",
          "height": 250
        },
        "outputId": "5a364b3c-8a3f-4aeb-e89a-6816e8381a58"
      },
      "source": [
        "sample_sub.head"
      ],
      "execution_count": 14,
      "outputs": [
        {
          "output_type": "execute_result",
          "data": {
            "text/plain": [
              "<bound method NDFrame.head of          id  target\n",
              "0         0       0\n",
              "1         2       0\n",
              "2         3       0\n",
              "3         9       0\n",
              "4        11       0\n",
              "...     ...     ...\n",
              "3258  10861       0\n",
              "3259  10865       0\n",
              "3260  10868       0\n",
              "3261  10874       0\n",
              "3262  10875       0\n",
              "\n",
              "[3263 rows x 2 columns]>"
            ]
          },
          "metadata": {
            "tags": []
          },
          "execution_count": 14
        }
      ]
    },
    {
      "cell_type": "code",
      "metadata": {
        "id": "SNX8k5RleXYw",
        "colab_type": "code",
        "colab": {
          "base_uri": "https://localhost:8080/",
          "height": 50
        },
        "outputId": "8bae5496-4995-4da1-d622-7477659622dd"
      },
      "source": [
        "%%time\n",
        "train_data['text']=train_data['text'].apply(lambda x : clean_tweets(x))\n",
        "test_data['text']=test_data['text'].apply(lambda x : clean_tweets(x))\n",
        "\n",
        "test_data['text']=test_data['text'].apply(lambda x : convert_abbrev_in_text(x))\n",
        "train_data['text']=train_data['text'].apply(lambda x : convert_abbrev_in_text(x))"
      ],
      "execution_count": 15,
      "outputs": [
        {
          "output_type": "stream",
          "text": [
            "CPU times: user 1.77 s, sys: 3.77 ms, total: 1.77 s\n",
            "Wall time: 1.78 s\n"
          ],
          "name": "stdout"
        }
      ]
    },
    {
      "cell_type": "markdown",
      "metadata": {
        "id": "05UVrSulBOyQ",
        "colab_type": "text"
      },
      "source": [
        "# Pre-trained Bert Uncased model 1024 (& 768) (Model building 1/2)\n",
        "\n",
        "Loading different BERT models (english) and testing them. General takeaways:\n",
        "\n",
        "In direct comparison between the 1024 and 768 model, the larger model was mostly more accurate, although it needed more time due to more learnable parameters (almost double the time). So for a slightly less accurate model you can safe almost half the training time, this can be especially relevant and interesting for less performaned hardware I would say.\n",
        "\n",
        "This gets even more interesting when comparing against the DistilBERT model, the 1024 needs in an equal setup 1458 seconds per epoche, the DistilBERT just 248 seconds (with almost same results after one epoche, see the confusion matrices)!\n",
        "\n",
        "Due to a coding error at the beginning of the project, the first trainings where always with a cleaned training dataset and an uncleaned test dataset. This error remained unnoticed for a while and eventually got solved. This point is stated clearly in the following list of scores and valuation_accuracys.\n",
        "\n",
        "---\n",
        "\n",
        "### **Default epoche=3 and max_len=160 of layers if not mentioned otherwise.**\n",
        "\n",
        "Using the bert_en_uncased_L-24_H-1024_A-16/2 model:\n",
        "  - batch_size=16, validation_split=0.2, max_sequence_length=512, lr=1e-5\n",
        "  - batch_size=16, validation_split=0.2, max_sequence_length=512, lr=6e-6 -> seems to overfit when using over 5 epochs (val_acc decreases slightly or stagnates, val_acc 11 % gap compared to acc), best result with 4 epochs\n",
        "  - batch_size=8, validation_split=0.2, max_sequence_length=512, lr=6e-6, epochs=5 -> score: 84.247 --- **best score yet** ---\n",
        "  - batch_size=16, validation_split=0.2, max_sequence_length=100, lr=2e-5, decay = 0.01 -> val_acc looks good, only 2% discrepancy to acc in second epoche, 4% in third -> score: 83.30%\n",
        "  - batch_size=16, validation_split=0.2, max_sequence_length=320, lr=2e-5, decay = 0.01 -> val_acc looks good, only 2% discrepancy to acc in second epoche, 4% in third -> score: 83.38%\n",
        "  - batch_size=16, validation_split=0.2, max_sequence_length=512, lr=2e-5, decay = 0.01 -> val_acc 84.31, only 4% discrepancy to acc in third epoche -> score: 83.879%\n",
        "  - batch_size=16, validation_split=0.2, max_sequence_length=512, lr=6e-6, decay = 0.01 -> val_acc 83.39% -> score: 81.795\n",
        "  - batch_size=16, validation_split=0.2, max_sequence_length=512, lr=6e-6, decay = 0.01, test_size=0.2 -> val_acc 83.91% -> score: 82.19%\n",
        "  - batch_size=16, validation_split=0.2, max_sequence_length=512, lr=1e-6, decay = 0.01, test_size=0.2, epochs=5 -> val_acc 83.13% -> score: 81.520%\n",
        "\n",
        "Without clean_tweets and abbrevations:\n",
        "  - batch_size=16, validation_split=0.2, max_sequence_length=512, lr=2e-5 -> val_acc 81.62% -> score: 83.512%\n",
        "\n",
        "With abbrevations without clean_tweets:\n",
        "  - batch_size=8, validation_split=0.2, max_sequence_length=512, lr=6e-6 -> val_acc 83.45% -> score: 83.634%\n",
        "\n",
        "---\n",
        "Using the bert_en_uncased_L-12_H-768_A-12/2 model:\n",
        "  - batch_size=16, validation_split=0.2, max_lemax_sequence_lengthngth=512, lr=2e-5, decay = 0.01 -> val_acc=82.99% -> score=82.42% (overfitting)\n",
        "  - batch_size=32, validation_split=0.2, max_sequence_length=512, lr=2e-5, decay = 0.01 -> val_acc=82.80% -> score=82.35% (overfitting)\n"
      ]
    },
    {
      "cell_type": "markdown",
      "metadata": {
        "id": "eVI8743xIsBi",
        "colab_type": "text"
      },
      "source": [
        "Parameters for BERT model:"
      ]
    },
    {
      "cell_type": "code",
      "metadata": {
        "id": "8QFdPgDxIqe3",
        "colab_type": "code",
        "colab": {}
      },
      "source": [
        "dropout_num=0\n",
        "max_length=160\n",
        "max_sequence_length=512\n",
        "learning_rate_BERT=1e-6\n",
        "val_split_BERT=0.2\n",
        "epochs_BERT=1\n",
        "batch_size_BERT=8"
      ],
      "execution_count": 16,
      "outputs": []
    },
    {
      "cell_type": "markdown",
      "metadata": {
        "id": "3fae-3z0G98J",
        "colab_type": "text"
      },
      "source": [
        "\n",
        "---\n",
        "**There was an error while cleaning the data so only the train data was cleaned, not the test data. This has with high probability falsified the values of the following runs:**\n",
        "\n",
        "---\n",
        "\n",
        "**Using the bert_en_uncased_L-24_H-1024_A-16/2 model (without cleaning the test data):**  \n",
        "  - batch_size=16, validation_split=0.2, max_sequence_length=512, lr=6e-6, decay = 0.01, test_size=0.2 -> val_acc 83.45% -> score: 82.439%\n",
        "  - batch_size=16, validation_split=0.3, max_sequence_length=512, lr=1e-6, test_size=0.2, epoche=3 -> val_acc 82.67% \n",
        "  - batch_size=16, validation_split=0.3, max_sequence_length=512, lr=1e-6, test_size=0.2, epoche=5 -> val_acc 82.31% \n",
        "  - batch_size=8, validation_split=0.2, max_sequence_length=512, lr=6e-6, test_size=0.2, epoche=5 -> val_acc 83.26% -> score: 81.703% \n",
        "  - batch_size=16, validation_split=0.2, max_sequence_length=512, lr=2e-5 -> val_acc 83.32% -> score: 82.960%\n",
        "  - batch_size=8, validation_split=0.2, max_sequence_length=160, lr=2e-5 -> val_acc 83.06% -> score: 82.776%\n",
        "\n",
        "\n",
        "--- \n",
        "\n",
        "Not running on kaggle using 1024 model: Everythin over batch_size>16 when max_sequence_length is over 100\n",
        "\n",
        "---\n"
      ]
    },
    {
      "cell_type": "markdown",
      "metadata": {
        "id": "N1r02B_uPiNe",
        "colab_type": "text"
      },
      "source": [
        "Dropouts got mostly OOM errors. On bigger hardware it would be good to play around with it.\n",
        "\n",
        "Played around with different learning rates, going from 1e-5 to 6e-6, some of them did not converge in the given epochs or got OOMs.\n",
        "\n",
        "---"
      ]
    },
    {
      "cell_type": "code",
      "metadata": {
        "id": "opjmVi6hd8KL",
        "colab_type": "code",
        "colab": {}
      },
      "source": [
        "# Adopted with max_len placeholder for easy parameter manipulation from https://www.kaggle.com/xhlulu/disaster-nlp-keras-bert-using-tfhub\n",
        "def bert_encode(texts, tokenizer, max_len=max_sequence_length):\n",
        "    all_tokens = []\n",
        "    all_masks = []\n",
        "    all_segments = []\n",
        "    \n",
        "    for text in texts:\n",
        "        text = tokenizer.tokenize(text)\n",
        "            \n",
        "        text = text[:max_len-2]\n",
        "        input_sequence = [\"[CLS]\"] + text + [\"[SEP]\"]\n",
        "        pad_len = max_len - len(input_sequence)\n",
        "        \n",
        "        tokens = tokenizer.convert_tokens_to_ids(input_sequence)\n",
        "        tokens += [0] * pad_len\n",
        "        pad_masks = [1] * len(input_sequence) + [0] * pad_len\n",
        "        segment_ids = [0] * max_len\n",
        "        \n",
        "        all_tokens.append(tokens)\n",
        "        all_masks.append(pad_masks)\n",
        "        all_segments.append(segment_ids)\n",
        "    \n",
        "    return np.array(all_tokens), np.array(all_masks), np.array(all_segments)"
      ],
      "execution_count": 17,
      "outputs": []
    },
    {
      "cell_type": "code",
      "metadata": {
        "id": "iRgMjhJKd9a7",
        "colab_type": "code",
        "colab": {}
      },
      "source": [
        "# Adopted with dropout_num, learning_rate and max_len placeholders for easy parameter manipulation from https://www.kaggle.com/xhlulu/disaster-nlp-keras-bert-using-tfhub\n",
        "def build_model(bert_layer, Dropout_num=dropout_num, max_len=max_sequence_length):\n",
        "    input_word_ids = Input(shape=(max_len,), dtype=tf.int32, name=\"input_word_ids\")\n",
        "    input_mask = Input(shape=(max_len,), dtype=tf.int32, name=\"input_mask\")\n",
        "    segment_ids = Input(shape=(max_len,), dtype=tf.int32, name=\"segment_ids\")\n",
        "\n",
        "    _, sequence_output = bert_layer([input_word_ids, input_mask, segment_ids])\n",
        "    clf_output = sequence_output[:, 0, :]\n",
        "    \n",
        "    if Dropout_num == 0:\n",
        "        # Without Dropout\n",
        "        out = Dense(1, activation='sigmoid')(clf_output)\n",
        "    else:\n",
        "        # With Dropout(Dropout_num), Dropout_num > 0\n",
        "        x = Dropout(Dropout_num)(clf_output)\n",
        "        out = Dense(1, activation='sigmoid')(x)\n",
        "\n",
        "    model = Model(inputs=[input_word_ids, input_mask, segment_ids], outputs=out)\n",
        "    model.compile(Adam(lr=learning_rate_BERT), loss='binary_crossentropy', metrics=['accuracy'])\n",
        "    \n",
        "    return model"
      ],
      "execution_count": 18,
      "outputs": []
    },
    {
      "cell_type": "markdown",
      "metadata": {
        "id": "2pW40KnzVZ9c",
        "colab_type": "text"
      },
      "source": [
        "---\n",
        "Running into allocation errors here all the time so had to try different options\n",
        "- OOM (out of Memory) when allocating tensor with shape[16,16,64,160] and type float on /job:localhost/replica:0/task:0/device:GPU:0 by allocator GPU_0_bfc\n",
        "\n",
        "Major problem seems to be batch_size=16 with max_sequence_length=512 which is to high for colab with a validation split of 0.2. GPU storage is full then. This can partly be resolved when developing on kaggle since the following setups are running smothly when not on colab:\n",
        "\n",
        "\n",
        "Relating threads: \n",
        "- https://www.kaggle.com/c/tensorflow2-question-answering/discussion/118868\n",
        "- https://stackoverflow.com/questions/59617755/training-a-bert-based-model-causes-an-outofmemory-error-how-do-i-fix-this\n",
        "- https://stackoverflow.com/questions/50760543/error-oom-when-allocating-tensor-with-shape/50764934\n",
        "\n",
        "---"
      ]
    },
    {
      "cell_type": "code",
      "metadata": {
        "id": "bojkKMKPBUKU",
        "colab_type": "code",
        "colab": {
          "base_uri": "https://localhost:8080/",
          "height": 133
        },
        "outputId": "c3a296f0-fda8-4f33-fecb-38f1111e8431"
      },
      "source": [
        "%%time\n",
        "##module_url = \"https://tfhub.dev/tensorflow/bert_en_uncased_L-12_H-768_A-12/2\"\n",
        "module_url = \"https://tfhub.dev/tensorflow/bert_en_uncased_L-24_H-1024_A-16/2\"\n",
        "bert_layer = hub.KerasLayer(module_url, trainable=True)"
      ],
      "execution_count": 19,
      "outputs": [
        {
          "output_type": "stream",
          "text": [
            "INFO:absl:Using /tmp/tfhub_modules to cache modules.\n",
            "INFO:absl:Downloading TF-Hub Module 'https://tfhub.dev/tensorflow/bert_en_uncased_L-24_H-1024_A-16/2'.\n",
            "INFO:absl:Downloading https://tfhub.dev/tensorflow/bert_en_uncased_L-24_H-1024_A-16/2: 777.11MB\n",
            "INFO:absl:Downloaded https://tfhub.dev/tensorflow/bert_en_uncased_L-24_H-1024_A-16/2, Total size: 1.26GB\n",
            "INFO:absl:Downloaded TF-Hub Module 'https://tfhub.dev/tensorflow/bert_en_uncased_L-24_H-1024_A-16/2'.\n"
          ],
          "name": "stderr"
        },
        {
          "output_type": "stream",
          "text": [
            "CPU times: user 23.8 s, sys: 5.21 s, total: 29 s\n",
            "Wall time: 40.7 s\n"
          ],
          "name": "stdout"
        }
      ]
    },
    {
      "cell_type": "code",
      "metadata": {
        "id": "5AgIdnQJDKJT",
        "colab_type": "code",
        "colab": {}
      },
      "source": [
        "vocab_file = bert_layer.resolved_object.vocab_file.asset_path.numpy()\n",
        "do_lower_case = bert_layer.resolved_object.do_lower_case.numpy()\n",
        "tokenizer = tokenization.FullTokenizer(vocab_file, do_lower_case)"
      ],
      "execution_count": 20,
      "outputs": []
    },
    {
      "cell_type": "code",
      "metadata": {
        "id": "OW6xZq_1DKFq",
        "colab_type": "code",
        "colab": {}
      },
      "source": [
        "# Adopted the max_len with placeholders from https://www.kaggle.com/vbmokin/nlp-eda-bag-of-words-tf-idf-glove-bert?scriptVersionId=42583022\n",
        "train_input = bert_encode(train_data.text.values, tokenizer, max_length)\n",
        "test_input = bert_encode(test_data.text.values, tokenizer, max_length)\n",
        "train_labels = train_data.target.values"
      ],
      "execution_count": 21,
      "outputs": []
    },
    {
      "cell_type": "markdown",
      "metadata": {
        "id": "4JII_AXKAGQB",
        "colab_type": "text"
      },
      "source": [
        "Building the model with given Shape as stated in the summary below. When shape is to large, OOM is thrown."
      ]
    },
    {
      "cell_type": "code",
      "metadata": {
        "id": "GVKZZeEKDKC7",
        "colab_type": "code",
        "colab": {
          "base_uri": "https://localhost:8080/",
          "height": 383
        },
        "outputId": "29cb49d1-f7bc-4a2f-9b82-cb1a52987d1e"
      },
      "source": [
        "model_BERT_1024 = build_model(bert_layer, max_len=max_length)\n",
        "model_BERT_1024.summary()"
      ],
      "execution_count": 22,
      "outputs": [
        {
          "output_type": "stream",
          "text": [
            "Model: \"functional_1\"\n",
            "__________________________________________________________________________________________________\n",
            "Layer (type)                    Output Shape         Param #     Connected to                     \n",
            "==================================================================================================\n",
            "input_word_ids (InputLayer)     [(None, 160)]        0                                            \n",
            "__________________________________________________________________________________________________\n",
            "input_mask (InputLayer)         [(None, 160)]        0                                            \n",
            "__________________________________________________________________________________________________\n",
            "segment_ids (InputLayer)        [(None, 160)]        0                                            \n",
            "__________________________________________________________________________________________________\n",
            "keras_layer (KerasLayer)        [(None, 1024), (None 335141889   input_word_ids[0][0]             \n",
            "                                                                 input_mask[0][0]                 \n",
            "                                                                 segment_ids[0][0]                \n",
            "__________________________________________________________________________________________________\n",
            "tf_op_layer_strided_slice (Tens [(None, 1024)]       0           keras_layer[0][1]                \n",
            "__________________________________________________________________________________________________\n",
            "dense (Dense)                   (None, 1)            1025        tf_op_layer_strided_slice[0][0]  \n",
            "==================================================================================================\n",
            "Total params: 335,142,914\n",
            "Trainable params: 335,142,913\n",
            "Non-trainable params: 1\n",
            "__________________________________________________________________________________________________\n"
          ],
          "name": "stdout"
        }
      ]
    },
    {
      "cell_type": "markdown",
      "metadata": {
        "id": "2PX4YTRAAY4T",
        "colab_type": "text"
      },
      "source": [
        "This is where the real training/finetuning of the pretrained model happens, everything with placeholder so they can all be manipulated at the start of this section without jumping around in the code."
      ]
    },
    {
      "cell_type": "code",
      "metadata": {
        "id": "2JsFos6QDJ4a",
        "colab_type": "code",
        "colab": {
          "base_uri": "https://localhost:8080/",
          "height": 34
        },
        "outputId": "b89f8b63-a2a3-4e42-e0c1-54fab9838704"
      },
      "source": [
        "checkpoint = ModelCheckpoint('model.h5', monitor='val_loss', save_best_only=True)\n",
        "\n",
        "train_history_1024 = model_BERT_1024.fit(\n",
        "    train_input, train_labels,\n",
        "    validation_split=val_split_BERT,\n",
        "    epochs=epochs_BERT,\n",
        "    callbacks=[checkpoint],\n",
        "    batch_size=batch_size_BERT\n",
        ")"
      ],
      "execution_count": 23,
      "outputs": [
        {
          "output_type": "stream",
          "text": [
            "762/762 [==============================] - 1458s 2s/step - loss: 0.5343 - accuracy: 0.7379 - val_loss: 0.4311 - val_accuracy: 0.8070\n"
          ],
          "name": "stdout"
        }
      ]
    },
    {
      "cell_type": "markdown",
      "metadata": {
        "id": "tX5WsPKjAjDs",
        "colab_type": "text"
      },
      "source": [
        "Predicting (classifying) the test tweets with the pretrained and finetuned model."
      ]
    },
    {
      "cell_type": "code",
      "metadata": {
        "id": "1kGwWEjMHirK",
        "colab_type": "code",
        "colab": {
          "base_uri": "https://localhost:8080/",
          "height": 50
        },
        "outputId": "707cd623-58a8-42ee-bd7f-ebb1b282e5a3"
      },
      "source": [
        "%%time\n",
        "model_BERT_1024.load_weights('model.h5')\n",
        "test_pred = model_BERT_1024.predict(test_input)"
      ],
      "execution_count": 25,
      "outputs": [
        {
          "output_type": "stream",
          "text": [
            "CPU times: user 37 s, sys: 30 s, total: 1min 7s\n",
            "Wall time: 4min 7s\n"
          ],
          "name": "stdout"
        }
      ]
    },
    {
      "cell_type": "code",
      "metadata": {
        "id": "06SpZFKZzcD7",
        "colab_type": "code",
        "colab": {
          "base_uri": "https://localhost:8080/",
          "height": 50
        },
        "outputId": "099a8bec-30b9-494e-e4a4-922bbb8d8ce8"
      },
      "source": [
        "# Thanks to https://www.kaggle.com/vbmokin/nlp-eda-bag-of-words-tf-idf-glove-bert?scriptVersionId=42583022\n",
        "# Prediction by BERT model with my tuning for the training data - for the Confusion Matrix\n",
        "%%time\n",
        "train_pred_BERT = model_BERT_1024.predict(train_input)\n",
        "train_pred_BERT_int = train_pred_BERT.round().astype('int')"
      ],
      "execution_count": 26,
      "outputs": [
        {
          "output_type": "stream",
          "text": [
            "CPU times: user 1min 20s, sys: 1min 7s, total: 2min 27s\n",
            "Wall time: 8min 7s\n"
          ],
          "name": "stdout"
        }
      ]
    },
    {
      "cell_type": "markdown",
      "metadata": {
        "id": "sbSwDscCA361",
        "colab_type": "text"
      },
      "source": [
        "Saving the prediction to the submission file - probably most important step of this notebook..."
      ]
    },
    {
      "cell_type": "code",
      "metadata": {
        "id": "vzleSPPwHiZA",
        "colab_type": "code",
        "colab": {}
      },
      "source": [
        "sample_sub['target'] = test_pred.round().astype(int)\n",
        "sample_sub.to_csv(\"./submission.csv\", index=False, header=True)"
      ],
      "execution_count": 27,
      "outputs": []
    },
    {
      "cell_type": "code",
      "metadata": {
        "id": "MimzLDhAN-QC",
        "colab_type": "code",
        "colab": {
          "base_uri": "https://localhost:8080/",
          "height": 611
        },
        "outputId": "36704563-01ee-4c91-9385-e2e25777e0ac"
      },
      "source": [
        "check_sample = pd.read_csv(\"./submission.csv\")\n",
        "check_sample.head(20)"
      ],
      "execution_count": 28,
      "outputs": [
        {
          "output_type": "execute_result",
          "data": {
            "text/html": [
              "<div>\n",
              "<style scoped>\n",
              "    .dataframe tbody tr th:only-of-type {\n",
              "        vertical-align: middle;\n",
              "    }\n",
              "\n",
              "    .dataframe tbody tr th {\n",
              "        vertical-align: top;\n",
              "    }\n",
              "\n",
              "    .dataframe thead th {\n",
              "        text-align: right;\n",
              "    }\n",
              "</style>\n",
              "<table border=\"1\" class=\"dataframe\">\n",
              "  <thead>\n",
              "    <tr style=\"text-align: right;\">\n",
              "      <th></th>\n",
              "      <th>id</th>\n",
              "      <th>target</th>\n",
              "    </tr>\n",
              "  </thead>\n",
              "  <tbody>\n",
              "    <tr>\n",
              "      <th>0</th>\n",
              "      <td>0</td>\n",
              "      <td>0</td>\n",
              "    </tr>\n",
              "    <tr>\n",
              "      <th>1</th>\n",
              "      <td>2</td>\n",
              "      <td>1</td>\n",
              "    </tr>\n",
              "    <tr>\n",
              "      <th>2</th>\n",
              "      <td>3</td>\n",
              "      <td>1</td>\n",
              "    </tr>\n",
              "    <tr>\n",
              "      <th>3</th>\n",
              "      <td>9</td>\n",
              "      <td>1</td>\n",
              "    </tr>\n",
              "    <tr>\n",
              "      <th>4</th>\n",
              "      <td>11</td>\n",
              "      <td>1</td>\n",
              "    </tr>\n",
              "    <tr>\n",
              "      <th>5</th>\n",
              "      <td>12</td>\n",
              "      <td>0</td>\n",
              "    </tr>\n",
              "    <tr>\n",
              "      <th>6</th>\n",
              "      <td>21</td>\n",
              "      <td>0</td>\n",
              "    </tr>\n",
              "    <tr>\n",
              "      <th>7</th>\n",
              "      <td>22</td>\n",
              "      <td>0</td>\n",
              "    </tr>\n",
              "    <tr>\n",
              "      <th>8</th>\n",
              "      <td>27</td>\n",
              "      <td>0</td>\n",
              "    </tr>\n",
              "    <tr>\n",
              "      <th>9</th>\n",
              "      <td>29</td>\n",
              "      <td>0</td>\n",
              "    </tr>\n",
              "    <tr>\n",
              "      <th>10</th>\n",
              "      <td>30</td>\n",
              "      <td>0</td>\n",
              "    </tr>\n",
              "    <tr>\n",
              "      <th>11</th>\n",
              "      <td>35</td>\n",
              "      <td>0</td>\n",
              "    </tr>\n",
              "    <tr>\n",
              "      <th>12</th>\n",
              "      <td>42</td>\n",
              "      <td>0</td>\n",
              "    </tr>\n",
              "    <tr>\n",
              "      <th>13</th>\n",
              "      <td>43</td>\n",
              "      <td>0</td>\n",
              "    </tr>\n",
              "    <tr>\n",
              "      <th>14</th>\n",
              "      <td>45</td>\n",
              "      <td>0</td>\n",
              "    </tr>\n",
              "    <tr>\n",
              "      <th>15</th>\n",
              "      <td>46</td>\n",
              "      <td>1</td>\n",
              "    </tr>\n",
              "    <tr>\n",
              "      <th>16</th>\n",
              "      <td>47</td>\n",
              "      <td>0</td>\n",
              "    </tr>\n",
              "    <tr>\n",
              "      <th>17</th>\n",
              "      <td>51</td>\n",
              "      <td>0</td>\n",
              "    </tr>\n",
              "    <tr>\n",
              "      <th>18</th>\n",
              "      <td>58</td>\n",
              "      <td>0</td>\n",
              "    </tr>\n",
              "    <tr>\n",
              "      <th>19</th>\n",
              "      <td>60</td>\n",
              "      <td>0</td>\n",
              "    </tr>\n",
              "  </tbody>\n",
              "</table>\n",
              "</div>"
            ],
            "text/plain": [
              "    id  target\n",
              "0    0       0\n",
              "1    2       1\n",
              "2    3       1\n",
              "3    9       1\n",
              "4   11       1\n",
              "5   12       0\n",
              "6   21       0\n",
              "7   22       0\n",
              "8   27       0\n",
              "9   29       0\n",
              "10  30       0\n",
              "11  35       0\n",
              "12  42       0\n",
              "13  43       0\n",
              "14  45       0\n",
              "15  46       1\n",
              "16  47       0\n",
              "17  51       0\n",
              "18  58       0\n",
              "19  60       0"
            ]
          },
          "metadata": {
            "tags": []
          },
          "execution_count": 28
        }
      ]
    },
    {
      "cell_type": "markdown",
      "metadata": {
        "id": "mKjrglBRVuyQ",
        "colab_type": "text"
      },
      "source": [
        "# Pre-trained DistilBERT model (Model building 2/2) and comparison\n",
        "\n",
        "This is a good evaluation model to test against the BERT 1024 one, since it is more lightweight then the other two BERT models, optimized for low performance hardware. Most of the comments/explanations from the section beforehand apply and are not listed again.\n",
        "\n",
        "---\n",
        "\n",
        "**Example 1 comparison with same parameters:**\n",
        "* dropout_num=0\n",
        "* max_length=160\n",
        "* max_sequence_length=512\n",
        "* learning_rate_BERT=2e-6\n",
        "* val_split_BERT=0.2\n",
        "* epochs_BERT=3\n",
        "* batch_size_BERT=8\n",
        "\n",
        "\n",
        "**BERT 1024 score: 82.837 % running appr. 18 min for 3 epoches**\n",
        "\n",
        "**DistilBERT score: 82.224 % running appr. 4 min for 3 epoches**\n",
        "\n",
        "---\n",
        "\n",
        "**Example 2 comparison with same parameters:**\n",
        "* dropout_num=0\n",
        "* max_length=160\n",
        "* max_sequence_length=512\n",
        "* learning_rate_BERT=1e-5\n",
        "* val_split_BERT=0.2\n",
        "* epochs_BERT=5\n",
        "* batch_size_BERT=8\n",
        "\n",
        "**BERT 1024 score: 83.910 % running appr. 35 min for 5 epoches**\n",
        "\n",
        "**DistilBERT score: 81.336 % running appr. 7 min for 5 epoches**\n",
        "\n",
        "---\n",
        "\n",
        "\n",
        "**Example 3 comparison with same parameters:**\n",
        "- dropout_num=0\n",
        "- max_length=160\n",
        "- max_sequence_length=512\n",
        "- learning_rate_BERT=6e-6\n",
        "- val_split_BERT=0.2\n",
        "- epochs_BERT=5\n",
        "- batch_size_BERT=8\n",
        "\n",
        "**BERT 1024: 421s 553ms/step - loss: 0.1136 - accuracy: 0.9585 - val_loss: 0.6983 - val_accuracy: 0.7905**\n",
        "\n",
        "**DistilBERT: 89s 117ms/step - loss: 0.1950 - accuracy: 0.9286 - val_loss: 0.5285 - val_accuracy: 0.8142**\n"
      ]
    },
    {
      "cell_type": "code",
      "metadata": {
        "id": "6EmCZvzcVubE",
        "colab_type": "code",
        "colab": {
          "base_uri": "https://localhost:8080/",
          "height": 299,
          "referenced_widgets": [
            "4a620048029444f68d22a5f4dae0a513",
            "aecf972fceb941db9dac71b204edc255",
            "ff9fec01404e403cbce1ac19a30cdb23",
            "aeb8d89095f44b05b5cf2e2e5cbd63e0",
            "8036eee738ee4ded9e1afc9a1983af4f",
            "5ec87f043f2d422498532bf03e558193",
            "9854eec04a97400d94db85b8bbe3d5ae",
            "1a0445b1db54449b99991aa30db14969",
            "0ee3baa85b0843f1bb07fdd017545979",
            "b8f73b9ab67a4d38be28930752f6ab9e",
            "74b745fcc4d744bfa1bbecf4d48d3123",
            "56f07bb223014841bd89f9de77d16dbb",
            "477d4b133e4c4b698446cd2933aba6d8",
            "6ba82687eb8949b4aaadd44bade518b5",
            "9a345cae9df74730ba14a796701fc067",
            "4a13444664ec419e95b2c3fe25d79b6f",
            "11f2e9e92d9e4ae29d7a8ee355967060",
            "ada5e53a563548b1af0371cd24c42760",
            "4cd8c38032bf4c4d80568b27f040521f",
            "78e0be7e65964a87b9ecad495767a101",
            "29e34b272f554b77a43dca053f368d5b",
            "c61acad588d1423c95bc7212c5663bd2",
            "5a84a3ae4fa746aa81df94a74e22d559",
            "2a918d9f09924c868b57631dfbf8a6c0"
          ]
        },
        "outputId": "622dd565-9d9e-43a5-b1f0-061646ca40c8"
      },
      "source": [
        "# For DistilBERT:\n",
        "## https://www.kaggle.com/xhlulu/disaster-nlp-distilbert-in-tf\n",
        "\n",
        "%%time\n",
        "transformer_layer = transformers.TFDistilBertModel.from_pretrained('distilbert-base-uncased')\n",
        "tokenizer_DistilBERT = transformers.DistilBertTokenizer.from_pretrained('distilbert-base-uncased')"
      ],
      "execution_count": 29,
      "outputs": [
        {
          "output_type": "display_data",
          "data": {
            "application/vnd.jupyter.widget-view+json": {
              "model_id": "4a620048029444f68d22a5f4dae0a513",
              "version_minor": 0,
              "version_major": 2
            },
            "text/plain": [
              "HBox(children=(FloatProgress(value=0.0, description='Downloading', max=442.0, style=ProgressStyle(description_…"
            ]
          },
          "metadata": {
            "tags": []
          }
        },
        {
          "output_type": "stream",
          "text": [
            "\n"
          ],
          "name": "stdout"
        },
        {
          "output_type": "display_data",
          "data": {
            "application/vnd.jupyter.widget-view+json": {
              "model_id": "0ee3baa85b0843f1bb07fdd017545979",
              "version_minor": 0,
              "version_major": 2
            },
            "text/plain": [
              "HBox(children=(FloatProgress(value=0.0, description='Downloading', max=363423424.0, style=ProgressStyle(descri…"
            ]
          },
          "metadata": {
            "tags": []
          }
        },
        {
          "output_type": "stream",
          "text": [
            "\n"
          ],
          "name": "stdout"
        },
        {
          "output_type": "stream",
          "text": [
            "Some weights of the model checkpoint at distilbert-base-uncased were not used when initializing TFDistilBertModel: ['vocab_layer_norm', 'vocab_transform', 'activation_13', 'vocab_projector']\n",
            "- This IS expected if you are initializing TFDistilBertModel from the checkpoint of a model trained on another task or with another architecture (e.g. initializing a BertForSequenceClassification model from a BertForPretraining model).\n",
            "- This IS NOT expected if you are initializing TFDistilBertModel from the checkpoint of a model that you expect to be exactly identical (initializing a BertForSequenceClassification model from a BertForSequenceClassification model).\n",
            "All the weights of TFDistilBertModel were initialized from the model checkpoint at distilbert-base-uncased.\n",
            "If your task is similar to the task the model of the checkpoint was trained on, you can already use TFDistilBertModel for predictions without further training.\n"
          ],
          "name": "stderr"
        },
        {
          "output_type": "display_data",
          "data": {
            "application/vnd.jupyter.widget-view+json": {
              "model_id": "11f2e9e92d9e4ae29d7a8ee355967060",
              "version_minor": 0,
              "version_major": 2
            },
            "text/plain": [
              "HBox(children=(FloatProgress(value=0.0, description='Downloading', max=231508.0, style=ProgressStyle(descripti…"
            ]
          },
          "metadata": {
            "tags": []
          }
        },
        {
          "output_type": "stream",
          "text": [
            "\n",
            "CPU times: user 7.07 s, sys: 1.42 s, total: 8.5 s\n",
            "Wall time: 12.6 s\n"
          ],
          "name": "stdout"
        }
      ]
    },
    {
      "cell_type": "code",
      "metadata": {
        "id": "-EGXmcUYuDSL",
        "colab_type": "code",
        "colab": {}
      },
      "source": [
        "def build_model_DistilBERT(transformer, max_len=max_sequence_length):\n",
        "    input_word_ids = Input(shape=(max_len,), dtype=tf.int32, name=\"input_word_ids\")\n",
        "    sequence_output = transformer(input_word_ids)[0]\n",
        "    cls_token = sequence_output[:, 0, :]\n",
        "    out = Dense(1, activation='sigmoid')(cls_token)\n",
        "    \n",
        "    model = Model(inputs=input_word_ids, outputs=out)\n",
        "    model.compile(Adam(lr=learning_rate_BERT), loss='binary_crossentropy', metrics=['accuracy'])\n",
        "    \n",
        "    return model"
      ],
      "execution_count": 30,
      "outputs": []
    },
    {
      "cell_type": "code",
      "metadata": {
        "id": "yciiehkuXLCT",
        "colab_type": "code",
        "colab": {
          "base_uri": "https://localhost:8080/",
          "height": 283
        },
        "outputId": "7eb66dc6-e106-48a1-cd26-12cd0886913e"
      },
      "source": [
        "model_DistilBERT = build_model_DistilBERT(transformer_layer, max_len=max_length)\n",
        "model_DistilBERT.summary()"
      ],
      "execution_count": 31,
      "outputs": [
        {
          "output_type": "stream",
          "text": [
            "Model: \"functional_3\"\n",
            "_________________________________________________________________\n",
            "Layer (type)                 Output Shape              Param #   \n",
            "=================================================================\n",
            "input_word_ids (InputLayer)  [(None, 160)]             0         \n",
            "_________________________________________________________________\n",
            "tf_distil_bert_model (TFDist ((None, 160, 768),)       66362880  \n",
            "_________________________________________________________________\n",
            "tf_op_layer_strided_slice_1  [(None, 768)]             0         \n",
            "_________________________________________________________________\n",
            "dense_1 (Dense)              (None, 1)                 769       \n",
            "=================================================================\n",
            "Total params: 66,363,649\n",
            "Trainable params: 66,363,649\n",
            "Non-trainable params: 0\n",
            "_________________________________________________________________\n"
          ],
          "name": "stdout"
        }
      ]
    },
    {
      "cell_type": "code",
      "metadata": {
        "id": "uJ7WPh7Ev5TG",
        "colab_type": "code",
        "colab": {}
      },
      "source": [
        "train_input_DistilBERT = bert_encode(train_data.text.values, tokenizer_DistilBERT, max_len=160)\n",
        "test_input_DistilBERT = bert_encode(test_data.text.values, tokenizer_DistilBERT, max_len=160)\n",
        "train_labels_DistilBERT = train_data.target.values"
      ],
      "execution_count": 32,
      "outputs": []
    },
    {
      "cell_type": "code",
      "metadata": {
        "id": "koh0-Pq_XK7m",
        "colab_type": "code",
        "colab": {
          "base_uri": "https://localhost:8080/",
          "height": 34
        },
        "outputId": "485318f4-8506-4c1d-9863-20d580e119d9"
      },
      "source": [
        "train_history_DistilBERT = model_DistilBERT.fit(\n",
        "    train_input, train_labels,\n",
        "    validation_split=val_split_BERT,\n",
        "    epochs=epochs_BERT,\n",
        "    batch_size=batch_size_BERT\n",
        ")"
      ],
      "execution_count": 33,
      "outputs": [
        {
          "output_type": "stream",
          "text": [
            "762/762 [==============================] - 248s 326ms/step - loss: 0.5579 - accuracy: 0.7130 - val_loss: 0.4439 - val_accuracy: 0.8070\n"
          ],
          "name": "stdout"
        }
      ]
    },
    {
      "cell_type": "code",
      "metadata": {
        "id": "dFP8VCSEY_Yw",
        "colab_type": "code",
        "colab": {
          "base_uri": "https://localhost:8080/",
          "height": 67
        },
        "outputId": "73aef3cd-08e6-46a5-83a2-ebdc4919e448"
      },
      "source": [
        "%%time\n",
        "test_pred_DistilBERT = model_DistilBERT.predict(test_input_DistilBERT, verbose=1)"
      ],
      "execution_count": 34,
      "outputs": [
        {
          "output_type": "stream",
          "text": [
            "102/102 [==============================] - 32s 314ms/step\n",
            "CPU times: user 6.47 s, sys: 2.39 s, total: 8.86 s\n",
            "Wall time: 33.9 s\n"
          ],
          "name": "stdout"
        }
      ]
    },
    {
      "cell_type": "code",
      "metadata": {
        "id": "RKQDdH75z7OD",
        "colab_type": "code",
        "colab": {
          "base_uri": "https://localhost:8080/",
          "height": 50
        },
        "outputId": "0925d3e4-85df-4df5-de6e-8188aa19f7cc"
      },
      "source": [
        "# Thanks to https://www.kaggle.com/vbmokin/nlp-eda-bag-of-words-tf-idf-glove-bert?scriptVersionId=42583022\n",
        "# Prediction by BERT model with my tuning for the training data - for the Confusion Matrix\n",
        "%%time\n",
        "train_pred_DistilBERT = model_DistilBERT.predict(train_input_DistilBERT)\n",
        "train_pred_DistilBERT_int = train_pred_DistilBERT.round().astype('int')"
      ],
      "execution_count": 35,
      "outputs": [
        {
          "output_type": "stream",
          "text": [
            "CPU times: user 10.1 s, sys: 4.53 s, total: 14.6 s\n",
            "Wall time: 1min 15s\n"
          ],
          "name": "stdout"
        }
      ]
    },
    {
      "cell_type": "code",
      "metadata": {
        "id": "PNGvbsHaeXT5",
        "colab_type": "code",
        "colab": {
          "base_uri": "https://localhost:8080/",
          "height": 611
        },
        "outputId": "c26bf596-9d15-4e84-971c-7ee43c4d19e8"
      },
      "source": [
        "sample_sub['target'] = test_pred_DistilBERT.round().astype(int)\n",
        "sample_sub.to_csv('submission_DistilBERT.csv', index=False, header=True)\n",
        "\n",
        "check_sample_DistilBERT = pd.read_csv(\"./submission_DistilBERT.csv\")\n",
        "check_sample_DistilBERT.head(20)"
      ],
      "execution_count": 36,
      "outputs": [
        {
          "output_type": "execute_result",
          "data": {
            "text/html": [
              "<div>\n",
              "<style scoped>\n",
              "    .dataframe tbody tr th:only-of-type {\n",
              "        vertical-align: middle;\n",
              "    }\n",
              "\n",
              "    .dataframe tbody tr th {\n",
              "        vertical-align: top;\n",
              "    }\n",
              "\n",
              "    .dataframe thead th {\n",
              "        text-align: right;\n",
              "    }\n",
              "</style>\n",
              "<table border=\"1\" class=\"dataframe\">\n",
              "  <thead>\n",
              "    <tr style=\"text-align: right;\">\n",
              "      <th></th>\n",
              "      <th>id</th>\n",
              "      <th>target</th>\n",
              "    </tr>\n",
              "  </thead>\n",
              "  <tbody>\n",
              "    <tr>\n",
              "      <th>0</th>\n",
              "      <td>0</td>\n",
              "      <td>1</td>\n",
              "    </tr>\n",
              "    <tr>\n",
              "      <th>1</th>\n",
              "      <td>2</td>\n",
              "      <td>1</td>\n",
              "    </tr>\n",
              "    <tr>\n",
              "      <th>2</th>\n",
              "      <td>3</td>\n",
              "      <td>1</td>\n",
              "    </tr>\n",
              "    <tr>\n",
              "      <th>3</th>\n",
              "      <td>9</td>\n",
              "      <td>1</td>\n",
              "    </tr>\n",
              "    <tr>\n",
              "      <th>4</th>\n",
              "      <td>11</td>\n",
              "      <td>1</td>\n",
              "    </tr>\n",
              "    <tr>\n",
              "      <th>5</th>\n",
              "      <td>12</td>\n",
              "      <td>1</td>\n",
              "    </tr>\n",
              "    <tr>\n",
              "      <th>6</th>\n",
              "      <td>21</td>\n",
              "      <td>0</td>\n",
              "    </tr>\n",
              "    <tr>\n",
              "      <th>7</th>\n",
              "      <td>22</td>\n",
              "      <td>0</td>\n",
              "    </tr>\n",
              "    <tr>\n",
              "      <th>8</th>\n",
              "      <td>27</td>\n",
              "      <td>0</td>\n",
              "    </tr>\n",
              "    <tr>\n",
              "      <th>9</th>\n",
              "      <td>29</td>\n",
              "      <td>0</td>\n",
              "    </tr>\n",
              "    <tr>\n",
              "      <th>10</th>\n",
              "      <td>30</td>\n",
              "      <td>0</td>\n",
              "    </tr>\n",
              "    <tr>\n",
              "      <th>11</th>\n",
              "      <td>35</td>\n",
              "      <td>0</td>\n",
              "    </tr>\n",
              "    <tr>\n",
              "      <th>12</th>\n",
              "      <td>42</td>\n",
              "      <td>0</td>\n",
              "    </tr>\n",
              "    <tr>\n",
              "      <th>13</th>\n",
              "      <td>43</td>\n",
              "      <td>0</td>\n",
              "    </tr>\n",
              "    <tr>\n",
              "      <th>14</th>\n",
              "      <td>45</td>\n",
              "      <td>0</td>\n",
              "    </tr>\n",
              "    <tr>\n",
              "      <th>15</th>\n",
              "      <td>46</td>\n",
              "      <td>1</td>\n",
              "    </tr>\n",
              "    <tr>\n",
              "      <th>16</th>\n",
              "      <td>47</td>\n",
              "      <td>0</td>\n",
              "    </tr>\n",
              "    <tr>\n",
              "      <th>17</th>\n",
              "      <td>51</td>\n",
              "      <td>0</td>\n",
              "    </tr>\n",
              "    <tr>\n",
              "      <th>18</th>\n",
              "      <td>58</td>\n",
              "      <td>0</td>\n",
              "    </tr>\n",
              "    <tr>\n",
              "      <th>19</th>\n",
              "      <td>60</td>\n",
              "      <td>0</td>\n",
              "    </tr>\n",
              "  </tbody>\n",
              "</table>\n",
              "</div>"
            ],
            "text/plain": [
              "    id  target\n",
              "0    0       1\n",
              "1    2       1\n",
              "2    3       1\n",
              "3    9       1\n",
              "4   11       1\n",
              "5   12       1\n",
              "6   21       0\n",
              "7   22       0\n",
              "8   27       0\n",
              "9   29       0\n",
              "10  30       0\n",
              "11  35       0\n",
              "12  42       0\n",
              "13  43       0\n",
              "14  45       0\n",
              "15  46       1\n",
              "16  47       0\n",
              "17  51       0\n",
              "18  58       0\n",
              "19  60       0"
            ]
          },
          "metadata": {
            "tags": []
          },
          "execution_count": 36
        }
      ]
    },
    {
      "cell_type": "markdown",
      "metadata": {
        "id": "u_2BzJPhzCDm",
        "colab_type": "text"
      },
      "source": [
        "# Showing Confusion Matrices for BERT models (to compare)\n",
        "\n",
        "The scores are not bad to test different models against each other but since it is only possible to upload 5 submissions a day it is not sufficient when running several projects/models. I also compared the val_acc and loss numbers with each other to get a better understanding but what really helps in my opinion are these model confusion matrices when displayed next to each other."
      ]
    },
    {
      "cell_type": "code",
      "metadata": {
        "id": "rhFip4vWzFoH",
        "colab_type": "code",
        "colab": {}
      },
      "source": [
        "# Showing Confusion Matrix, thanks to https://www.kaggle.com/vbmokin/nlp-eda-bag-of-words-tf-idf-glove-bert?scriptVersionId=42583022\n",
        "def plot_cm(y_true, y_pred, title, figsize=(5,5)):\n",
        "    cm = confusion_matrix(y_true, y_pred, labels=np.unique(y_true))\n",
        "    cm_sum = np.sum(cm, axis=1, keepdims=True)\n",
        "    cm_perc = cm / cm_sum.astype(float) * 100\n",
        "    annot = np.empty_like(cm).astype(str)\n",
        "    nrows, ncols = cm.shape\n",
        "    for i in range(nrows):\n",
        "        for j in range(ncols):\n",
        "            c = cm[i, j]\n",
        "            p = cm_perc[i, j]\n",
        "            if i == j:\n",
        "                s = cm_sum[i]\n",
        "                annot[i, j] = '%.1f%%\\n%d/%d' % (p, c, s)\n",
        "            elif c == 0:\n",
        "                annot[i, j] = ''\n",
        "            else:\n",
        "                annot[i, j] = '%.1f%%\\n%d' % (p, c)\n",
        "    cm = pd.DataFrame(cm, index=np.unique(y_true), columns=np.unique(y_true))\n",
        "    cm.index.name = 'Actual'\n",
        "    cm.columns.name = 'Predicted'\n",
        "    fig, ax = plt.subplots(figsize=figsize)\n",
        "    plt.title(title)\n",
        "    sns.heatmap(cm, cmap= \"YlGnBu\", annot=annot, fmt='', ax=ax)"
      ],
      "execution_count": 37,
      "outputs": []
    },
    {
      "cell_type": "code",
      "metadata": {
        "id": "kEnwo4Um0NW_",
        "colab_type": "code",
        "colab": {
          "base_uri": "https://localhost:8080/",
          "height": 458
        },
        "outputId": "5e450ff7-0ba3-42f8-c48d-2d4ff52b9fc7"
      },
      "source": [
        "# Showing Confusion Matrix for BERT model\n",
        "plot_cm(train_pred_BERT_int, train_data['target'].values, 'Confusion matrix for BERT 1024 model', figsize=(7,7))"
      ],
      "execution_count": 38,
      "outputs": [
        {
          "output_type": "display_data",
          "data": {
            "image/png": "[encoded data removed]",
            "text/plain": [
              "<Figure size 504x504 with 2 Axes>"
            ]
          },
          "metadata": {
            "tags": [],
            "needs_background": "light"
          }
        }
      ]
    },
    {
      "cell_type": "code",
      "metadata": {
        "id": "emJeOJLgzJcB",
        "colab_type": "code",
        "colab": {
          "base_uri": "https://localhost:8080/",
          "height": 458
        },
        "outputId": "52fee2d7-9b94-4b58-ccdc-99359b818550"
      },
      "source": [
        "# Showing Confusion Matrix for BERT model\n",
        "plot_cm(train_pred_DistilBERT_int, train_data['target'].values, 'Confusion matrix for DistilBERT model', figsize=(7,7))"
      ],
      "execution_count": 39,
      "outputs": [
        {
          "output_type": "display_data",
          "data": {
            "image/png": "[encoded data removed]",
            "text/plain": [
              "<Figure size 504x504 with 2 Axes>"
            ]
          },
          "metadata": {
            "tags": [],
            "needs_background": "light"
          }
        }
      ]
    },
    {
      "cell_type": "markdown",
      "metadata": {
        "id": "LlsSoW3vC20n",
        "colab_type": "text"
      },
      "source": [
        "As you can see in the confusion matrices, it is almost identical for one epoche. Slight differences can be seen in the false positive/negative with the BERT 1024 model being supperior.\n",
        "\n",
        "---"
      ]
    },
    {
      "cell_type": "markdown",
      "metadata": {
        "id": "BD16oSlCE_Tw",
        "colab_type": "text"
      },
      "source": [
        "When running trainings with larger epochs (3-5) it is very clear that the DistilBERT has less error rates on the training data and overfits slightly more than the larger models. This effects intensivies when largening the learning rate ...\n",
        "\n",
        "---"
      ]
    },
    {
      "cell_type": "code",
      "metadata": {
        "id": "YQkQh_S_DNij",
        "colab_type": "code",
        "colab": {}
      },
      "source": [
        ""
      ],
      "execution_count": null,
      "outputs": []
    }
  ]
}